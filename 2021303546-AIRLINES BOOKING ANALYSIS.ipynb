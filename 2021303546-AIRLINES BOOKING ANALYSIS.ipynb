{
 "cells": [
  {
   "cell_type": "code",
   "execution_count": 1,
   "id": "e5231cb3",
   "metadata": {
    "_execution_state": "idle",
    "_uuid": "051d70d956493feee0c6d64651c6a088724dca2a",
    "execution": {
     "iopub.execute_input": "2024-04-30T13:47:04.656767Z",
     "iopub.status.busy": "2024-04-30T13:47:04.654500Z",
     "iopub.status.idle": "2024-04-30T13:47:05.949195Z",
     "shell.execute_reply": "2024-04-30T13:47:05.947212Z"
    },
    "papermill": {
     "duration": 1.306215,
     "end_time": "2024-04-30T13:47:05.951904",
     "exception": false,
     "start_time": "2024-04-30T13:47:04.645689",
     "status": "completed"
    },
    "tags": []
   },
   "outputs": [
    {
     "name": "stderr",
     "output_type": "stream",
     "text": [
      "── \u001b[1mAttaching core tidyverse packages\u001b[22m ──────────────────────── tidyverse 2.0.0 ──\n",
      "\u001b[32m✔\u001b[39m \u001b[34mdplyr    \u001b[39m 1.1.4     \u001b[32m✔\u001b[39m \u001b[34mreadr    \u001b[39m 2.1.4\n",
      "\u001b[32m✔\u001b[39m \u001b[34mforcats  \u001b[39m 1.0.0     \u001b[32m✔\u001b[39m \u001b[34mstringr  \u001b[39m 1.5.1\n",
      "\u001b[32m✔\u001b[39m \u001b[34mggplot2  \u001b[39m 3.4.4     \u001b[32m✔\u001b[39m \u001b[34mtibble   \u001b[39m 3.2.1\n",
      "\u001b[32m✔\u001b[39m \u001b[34mlubridate\u001b[39m 1.9.3     \u001b[32m✔\u001b[39m \u001b[34mtidyr    \u001b[39m 1.3.0\n",
      "\u001b[32m✔\u001b[39m \u001b[34mpurrr    \u001b[39m 1.0.2     \n",
      "── \u001b[1mConflicts\u001b[22m ────────────────────────────────────────── tidyverse_conflicts() ──\n",
      "\u001b[31m✖\u001b[39m \u001b[34mdplyr\u001b[39m::\u001b[32mfilter()\u001b[39m masks \u001b[34mstats\u001b[39m::filter()\n",
      "\u001b[31m✖\u001b[39m \u001b[34mdplyr\u001b[39m::\u001b[32mlag()\u001b[39m    masks \u001b[34mstats\u001b[39m::lag()\n",
      "\u001b[36mℹ\u001b[39m Use the conflicted package (\u001b[3m\u001b[34m<http://conflicted.r-lib.org/>\u001b[39m\u001b[23m) to force all conflicts to become errors\n"
     ]
    },
    {
     "data": {
      "text/html": [
       "'airlines-booking-csv'"
      ],
      "text/latex": [
       "'airlines-booking-csv'"
      ],
      "text/markdown": [
       "'airlines-booking-csv'"
      ],
      "text/plain": [
       "[1] \"airlines-booking-csv\""
      ]
     },
     "metadata": {},
     "output_type": "display_data"
    }
   ],
   "source": [
    "\n",
    "\n",
    "library(tidyverse) # metapackage of all tidyverse packages\n",
    "\n",
    "list.files(path = \"../input\")\n",
    "\n"
   ]
  },
  {
   "cell_type": "markdown",
   "id": "b9cbaf61",
   "metadata": {
    "papermill": {
     "duration": 0.006478,
     "end_time": "2024-04-30T13:47:05.965181",
     "exception": false,
     "start_time": "2024-04-30T13:47:05.958703",
     "status": "completed"
    },
    "tags": []
   },
   "source": [
    "## Inspecting the dataset and EDA "
   ]
  },
  {
   "cell_type": "code",
   "execution_count": 2,
   "id": "e231271c",
   "metadata": {
    "execution": {
     "iopub.execute_input": "2024-04-30T13:47:06.014996Z",
     "iopub.status.busy": "2024-04-30T13:47:05.980267Z",
     "iopub.status.idle": "2024-04-30T13:47:06.290080Z",
     "shell.execute_reply": "2024-04-30T13:47:06.288107Z"
    },
    "papermill": {
     "duration": 0.321391,
     "end_time": "2024-04-30T13:47:06.292931",
     "exception": false,
     "start_time": "2024-04-30T13:47:05.971540",
     "status": "completed"
    },
    "tags": []
   },
   "outputs": [
    {
     "data": {
      "text/html": [
       "<table class=\"dataframe\">\n",
       "<caption>A data.frame: 6 × 14</caption>\n",
       "<thead>\n",
       "\t<tr><th></th><th scope=col>num_passengers</th><th scope=col>sales_channel</th><th scope=col>trip_type</th><th scope=col>purchase_lead</th><th scope=col>length_of_stay</th><th scope=col>flight_hour</th><th scope=col>flight_day</th><th scope=col>route</th><th scope=col>booking_origin</th><th scope=col>wants_extra_baggage</th><th scope=col>wants_preferred_seat</th><th scope=col>wants_in_flight_meals</th><th scope=col>flight_duration</th><th scope=col>booking_complete</th></tr>\n",
       "\t<tr><th></th><th scope=col>&lt;int&gt;</th><th scope=col>&lt;chr&gt;</th><th scope=col>&lt;chr&gt;</th><th scope=col>&lt;int&gt;</th><th scope=col>&lt;int&gt;</th><th scope=col>&lt;int&gt;</th><th scope=col>&lt;chr&gt;</th><th scope=col>&lt;chr&gt;</th><th scope=col>&lt;chr&gt;</th><th scope=col>&lt;int&gt;</th><th scope=col>&lt;int&gt;</th><th scope=col>&lt;int&gt;</th><th scope=col>&lt;dbl&gt;</th><th scope=col>&lt;int&gt;</th></tr>\n",
       "</thead>\n",
       "<tbody>\n",
       "\t<tr><th scope=row>1</th><td>2</td><td>Internet</td><td>RoundTrip</td><td>262</td><td>19</td><td> 7</td><td>Sat</td><td>AKLDEL</td><td>New Zealand</td><td>1</td><td>0</td><td>0</td><td>5.52</td><td>0</td></tr>\n",
       "\t<tr><th scope=row>2</th><td>1</td><td>Internet</td><td>RoundTrip</td><td>112</td><td>20</td><td> 3</td><td>Sat</td><td>AKLDEL</td><td>New Zealand</td><td>0</td><td>0</td><td>0</td><td>5.52</td><td>0</td></tr>\n",
       "\t<tr><th scope=row>3</th><td>2</td><td>Internet</td><td>RoundTrip</td><td>243</td><td>22</td><td>17</td><td>Wed</td><td>AKLDEL</td><td>India      </td><td>1</td><td>1</td><td>0</td><td>5.52</td><td>0</td></tr>\n",
       "\t<tr><th scope=row>4</th><td>1</td><td>Internet</td><td>RoundTrip</td><td> 96</td><td>31</td><td> 4</td><td>Sat</td><td>AKLDEL</td><td>New Zealand</td><td>0</td><td>0</td><td>1</td><td>5.52</td><td>0</td></tr>\n",
       "\t<tr><th scope=row>5</th><td>2</td><td>Internet</td><td>RoundTrip</td><td> 68</td><td>22</td><td>15</td><td>Wed</td><td>AKLDEL</td><td>India      </td><td>1</td><td>0</td><td>1</td><td>5.52</td><td>0</td></tr>\n",
       "\t<tr><th scope=row>6</th><td>1</td><td>Internet</td><td>RoundTrip</td><td>  3</td><td>48</td><td>20</td><td>Thu</td><td>AKLDEL</td><td>New Zealand</td><td>1</td><td>0</td><td>1</td><td>5.52</td><td>0</td></tr>\n",
       "</tbody>\n",
       "</table>\n"
      ],
      "text/latex": [
       "A data.frame: 6 × 14\n",
       "\\begin{tabular}{r|llllllllllllll}\n",
       "  & num\\_passengers & sales\\_channel & trip\\_type & purchase\\_lead & length\\_of\\_stay & flight\\_hour & flight\\_day & route & booking\\_origin & wants\\_extra\\_baggage & wants\\_preferred\\_seat & wants\\_in\\_flight\\_meals & flight\\_duration & booking\\_complete\\\\\n",
       "  & <int> & <chr> & <chr> & <int> & <int> & <int> & <chr> & <chr> & <chr> & <int> & <int> & <int> & <dbl> & <int>\\\\\n",
       "\\hline\n",
       "\t1 & 2 & Internet & RoundTrip & 262 & 19 &  7 & Sat & AKLDEL & New Zealand & 1 & 0 & 0 & 5.52 & 0\\\\\n",
       "\t2 & 1 & Internet & RoundTrip & 112 & 20 &  3 & Sat & AKLDEL & New Zealand & 0 & 0 & 0 & 5.52 & 0\\\\\n",
       "\t3 & 2 & Internet & RoundTrip & 243 & 22 & 17 & Wed & AKLDEL & India       & 1 & 1 & 0 & 5.52 & 0\\\\\n",
       "\t4 & 1 & Internet & RoundTrip &  96 & 31 &  4 & Sat & AKLDEL & New Zealand & 0 & 0 & 1 & 5.52 & 0\\\\\n",
       "\t5 & 2 & Internet & RoundTrip &  68 & 22 & 15 & Wed & AKLDEL & India       & 1 & 0 & 1 & 5.52 & 0\\\\\n",
       "\t6 & 1 & Internet & RoundTrip &   3 & 48 & 20 & Thu & AKLDEL & New Zealand & 1 & 0 & 1 & 5.52 & 0\\\\\n",
       "\\end{tabular}\n"
      ],
      "text/markdown": [
       "\n",
       "A data.frame: 6 × 14\n",
       "\n",
       "| <!--/--> | num_passengers &lt;int&gt; | sales_channel &lt;chr&gt; | trip_type &lt;chr&gt; | purchase_lead &lt;int&gt; | length_of_stay &lt;int&gt; | flight_hour &lt;int&gt; | flight_day &lt;chr&gt; | route &lt;chr&gt; | booking_origin &lt;chr&gt; | wants_extra_baggage &lt;int&gt; | wants_preferred_seat &lt;int&gt; | wants_in_flight_meals &lt;int&gt; | flight_duration &lt;dbl&gt; | booking_complete &lt;int&gt; |\n",
       "|---|---|---|---|---|---|---|---|---|---|---|---|---|---|---|\n",
       "| 1 | 2 | Internet | RoundTrip | 262 | 19 |  7 | Sat | AKLDEL | New Zealand | 1 | 0 | 0 | 5.52 | 0 |\n",
       "| 2 | 1 | Internet | RoundTrip | 112 | 20 |  3 | Sat | AKLDEL | New Zealand | 0 | 0 | 0 | 5.52 | 0 |\n",
       "| 3 | 2 | Internet | RoundTrip | 243 | 22 | 17 | Wed | AKLDEL | India       | 1 | 1 | 0 | 5.52 | 0 |\n",
       "| 4 | 1 | Internet | RoundTrip |  96 | 31 |  4 | Sat | AKLDEL | New Zealand | 0 | 0 | 1 | 5.52 | 0 |\n",
       "| 5 | 2 | Internet | RoundTrip |  68 | 22 | 15 | Wed | AKLDEL | India       | 1 | 0 | 1 | 5.52 | 0 |\n",
       "| 6 | 1 | Internet | RoundTrip |   3 | 48 | 20 | Thu | AKLDEL | New Zealand | 1 | 0 | 1 | 5.52 | 0 |\n",
       "\n"
      ],
      "text/plain": [
       "  num_passengers sales_channel trip_type purchase_lead length_of_stay\n",
       "1 2              Internet      RoundTrip 262           19            \n",
       "2 1              Internet      RoundTrip 112           20            \n",
       "3 2              Internet      RoundTrip 243           22            \n",
       "4 1              Internet      RoundTrip  96           31            \n",
       "5 2              Internet      RoundTrip  68           22            \n",
       "6 1              Internet      RoundTrip   3           48            \n",
       "  flight_hour flight_day route  booking_origin wants_extra_baggage\n",
       "1  7          Sat        AKLDEL New Zealand    1                  \n",
       "2  3          Sat        AKLDEL New Zealand    0                  \n",
       "3 17          Wed        AKLDEL India          1                  \n",
       "4  4          Sat        AKLDEL New Zealand    0                  \n",
       "5 15          Wed        AKLDEL India          1                  \n",
       "6 20          Thu        AKLDEL New Zealand    1                  \n",
       "  wants_preferred_seat wants_in_flight_meals flight_duration booking_complete\n",
       "1 0                    0                     5.52            0               \n",
       "2 0                    0                     5.52            0               \n",
       "3 1                    0                     5.52            0               \n",
       "4 0                    1                     5.52            0               \n",
       "5 0                    1                     5.52            0               \n",
       "6 0                    1                     5.52            0               "
      ]
     },
     "metadata": {},
     "output_type": "display_data"
    }
   ],
   "source": [
    "df<-read.csv('/kaggle/input/airlines-booking-csv/customer_booking.csv')\n",
    "head(df)"
   ]
  },
  {
   "cell_type": "code",
   "execution_count": 3,
   "id": "0a1fb41d",
   "metadata": {
    "execution": {
     "iopub.execute_input": "2024-04-30T13:47:06.310925Z",
     "iopub.status.busy": "2024-04-30T13:47:06.309264Z",
     "iopub.status.idle": "2024-04-30T13:47:06.356721Z",
     "shell.execute_reply": "2024-04-30T13:47:06.354485Z"
    },
    "papermill": {
     "duration": 0.059912,
     "end_time": "2024-04-30T13:47:06.359718",
     "exception": false,
     "start_time": "2024-04-30T13:47:06.299806",
     "status": "completed"
    },
    "tags": []
   },
   "outputs": [
    {
     "data": {
      "text/html": [
       "<table class=\"dataframe\">\n",
       "<caption>A data.frame: 6 × 14</caption>\n",
       "<thead>\n",
       "\t<tr><th></th><th scope=col>num_passengers</th><th scope=col>sales_channel</th><th scope=col>trip_type</th><th scope=col>purchase_lead</th><th scope=col>length_of_stay</th><th scope=col>flight_hour</th><th scope=col>flight_day</th><th scope=col>route</th><th scope=col>booking_origin</th><th scope=col>wants_extra_baggage</th><th scope=col>wants_preferred_seat</th><th scope=col>wants_in_flight_meals</th><th scope=col>flight_duration</th><th scope=col>booking_complete</th></tr>\n",
       "\t<tr><th></th><th scope=col>&lt;int&gt;</th><th scope=col>&lt;chr&gt;</th><th scope=col>&lt;chr&gt;</th><th scope=col>&lt;int&gt;</th><th scope=col>&lt;int&gt;</th><th scope=col>&lt;int&gt;</th><th scope=col>&lt;chr&gt;</th><th scope=col>&lt;chr&gt;</th><th scope=col>&lt;chr&gt;</th><th scope=col>&lt;int&gt;</th><th scope=col>&lt;int&gt;</th><th scope=col>&lt;int&gt;</th><th scope=col>&lt;dbl&gt;</th><th scope=col>&lt;int&gt;</th></tr>\n",
       "</thead>\n",
       "<tbody>\n",
       "\t<tr><th scope=row>49995</th><td>2</td><td>Internet</td><td>RoundTrip</td><td> 25</td><td>6</td><td> 9</td><td>Sun</td><td>PERPNH</td><td>Australia</td><td>0</td><td>0</td><td>0</td><td>5.62</td><td>0</td></tr>\n",
       "\t<tr><th scope=row>49996</th><td>2</td><td>Internet</td><td>RoundTrip</td><td> 27</td><td>6</td><td> 9</td><td>Sat</td><td>PERPNH</td><td>Australia</td><td>1</td><td>0</td><td>1</td><td>5.62</td><td>0</td></tr>\n",
       "\t<tr><th scope=row>49997</th><td>1</td><td>Internet</td><td>RoundTrip</td><td>111</td><td>6</td><td> 4</td><td>Sun</td><td>PERPNH</td><td>Australia</td><td>0</td><td>0</td><td>0</td><td>5.62</td><td>0</td></tr>\n",
       "\t<tr><th scope=row>49998</th><td>1</td><td>Internet</td><td>RoundTrip</td><td> 24</td><td>6</td><td>22</td><td>Sat</td><td>PERPNH</td><td>Australia</td><td>0</td><td>0</td><td>1</td><td>5.62</td><td>0</td></tr>\n",
       "\t<tr><th scope=row>49999</th><td>1</td><td>Internet</td><td>RoundTrip</td><td> 15</td><td>6</td><td>11</td><td>Mon</td><td>PERPNH</td><td>Australia</td><td>1</td><td>0</td><td>1</td><td>5.62</td><td>0</td></tr>\n",
       "\t<tr><th scope=row>50000</th><td>1</td><td>Internet</td><td>RoundTrip</td><td> 19</td><td>6</td><td>10</td><td>Thu</td><td>PERPNH</td><td>Australia</td><td>0</td><td>1</td><td>0</td><td>5.62</td><td>0</td></tr>\n",
       "</tbody>\n",
       "</table>\n"
      ],
      "text/latex": [
       "A data.frame: 6 × 14\n",
       "\\begin{tabular}{r|llllllllllllll}\n",
       "  & num\\_passengers & sales\\_channel & trip\\_type & purchase\\_lead & length\\_of\\_stay & flight\\_hour & flight\\_day & route & booking\\_origin & wants\\_extra\\_baggage & wants\\_preferred\\_seat & wants\\_in\\_flight\\_meals & flight\\_duration & booking\\_complete\\\\\n",
       "  & <int> & <chr> & <chr> & <int> & <int> & <int> & <chr> & <chr> & <chr> & <int> & <int> & <int> & <dbl> & <int>\\\\\n",
       "\\hline\n",
       "\t49995 & 2 & Internet & RoundTrip &  25 & 6 &  9 & Sun & PERPNH & Australia & 0 & 0 & 0 & 5.62 & 0\\\\\n",
       "\t49996 & 2 & Internet & RoundTrip &  27 & 6 &  9 & Sat & PERPNH & Australia & 1 & 0 & 1 & 5.62 & 0\\\\\n",
       "\t49997 & 1 & Internet & RoundTrip & 111 & 6 &  4 & Sun & PERPNH & Australia & 0 & 0 & 0 & 5.62 & 0\\\\\n",
       "\t49998 & 1 & Internet & RoundTrip &  24 & 6 & 22 & Sat & PERPNH & Australia & 0 & 0 & 1 & 5.62 & 0\\\\\n",
       "\t49999 & 1 & Internet & RoundTrip &  15 & 6 & 11 & Mon & PERPNH & Australia & 1 & 0 & 1 & 5.62 & 0\\\\\n",
       "\t50000 & 1 & Internet & RoundTrip &  19 & 6 & 10 & Thu & PERPNH & Australia & 0 & 1 & 0 & 5.62 & 0\\\\\n",
       "\\end{tabular}\n"
      ],
      "text/markdown": [
       "\n",
       "A data.frame: 6 × 14\n",
       "\n",
       "| <!--/--> | num_passengers &lt;int&gt; | sales_channel &lt;chr&gt; | trip_type &lt;chr&gt; | purchase_lead &lt;int&gt; | length_of_stay &lt;int&gt; | flight_hour &lt;int&gt; | flight_day &lt;chr&gt; | route &lt;chr&gt; | booking_origin &lt;chr&gt; | wants_extra_baggage &lt;int&gt; | wants_preferred_seat &lt;int&gt; | wants_in_flight_meals &lt;int&gt; | flight_duration &lt;dbl&gt; | booking_complete &lt;int&gt; |\n",
       "|---|---|---|---|---|---|---|---|---|---|---|---|---|---|---|\n",
       "| 49995 | 2 | Internet | RoundTrip |  25 | 6 |  9 | Sun | PERPNH | Australia | 0 | 0 | 0 | 5.62 | 0 |\n",
       "| 49996 | 2 | Internet | RoundTrip |  27 | 6 |  9 | Sat | PERPNH | Australia | 1 | 0 | 1 | 5.62 | 0 |\n",
       "| 49997 | 1 | Internet | RoundTrip | 111 | 6 |  4 | Sun | PERPNH | Australia | 0 | 0 | 0 | 5.62 | 0 |\n",
       "| 49998 | 1 | Internet | RoundTrip |  24 | 6 | 22 | Sat | PERPNH | Australia | 0 | 0 | 1 | 5.62 | 0 |\n",
       "| 49999 | 1 | Internet | RoundTrip |  15 | 6 | 11 | Mon | PERPNH | Australia | 1 | 0 | 1 | 5.62 | 0 |\n",
       "| 50000 | 1 | Internet | RoundTrip |  19 | 6 | 10 | Thu | PERPNH | Australia | 0 | 1 | 0 | 5.62 | 0 |\n",
       "\n"
      ],
      "text/plain": [
       "      num_passengers sales_channel trip_type purchase_lead length_of_stay\n",
       "49995 2              Internet      RoundTrip  25           6             \n",
       "49996 2              Internet      RoundTrip  27           6             \n",
       "49997 1              Internet      RoundTrip 111           6             \n",
       "49998 1              Internet      RoundTrip  24           6             \n",
       "49999 1              Internet      RoundTrip  15           6             \n",
       "50000 1              Internet      RoundTrip  19           6             \n",
       "      flight_hour flight_day route  booking_origin wants_extra_baggage\n",
       "49995  9          Sun        PERPNH Australia      0                  \n",
       "49996  9          Sat        PERPNH Australia      1                  \n",
       "49997  4          Sun        PERPNH Australia      0                  \n",
       "49998 22          Sat        PERPNH Australia      0                  \n",
       "49999 11          Mon        PERPNH Australia      1                  \n",
       "50000 10          Thu        PERPNH Australia      0                  \n",
       "      wants_preferred_seat wants_in_flight_meals flight_duration\n",
       "49995 0                    0                     5.62           \n",
       "49996 0                    1                     5.62           \n",
       "49997 0                    0                     5.62           \n",
       "49998 0                    1                     5.62           \n",
       "49999 0                    1                     5.62           \n",
       "50000 1                    0                     5.62           \n",
       "      booking_complete\n",
       "49995 0               \n",
       "49996 0               \n",
       "49997 0               \n",
       "49998 0               \n",
       "49999 0               \n",
       "50000 0               "
      ]
     },
     "metadata": {},
     "output_type": "display_data"
    }
   ],
   "source": [
    "tail(df)"
   ]
  },
  {
   "cell_type": "code",
   "execution_count": 4,
   "id": "d5ef85e3",
   "metadata": {
    "execution": {
     "iopub.execute_input": "2024-04-30T13:47:06.377801Z",
     "iopub.status.busy": "2024-04-30T13:47:06.376079Z",
     "iopub.status.idle": "2024-04-30T13:47:06.411903Z",
     "shell.execute_reply": "2024-04-30T13:47:06.410005Z"
    },
    "papermill": {
     "duration": 0.047877,
     "end_time": "2024-04-30T13:47:06.414735",
     "exception": false,
     "start_time": "2024-04-30T13:47:06.366858",
     "status": "completed"
    },
    "tags": []
   },
   "outputs": [
    {
     "name": "stdout",
     "output_type": "stream",
     "text": [
      "Rows: 50,000\n",
      "Columns: 14\n",
      "$ num_passengers        \u001b[3m\u001b[90m<int>\u001b[39m\u001b[23m 2, 1, 2, 1, 2, 1, 3, 2, 1, 1, 2, 1, 4, 1, 1, 1, …\n",
      "$ sales_channel         \u001b[3m\u001b[90m<chr>\u001b[39m\u001b[23m \"Internet\", \"Internet\", \"Internet\", \"Internet\", …\n",
      "$ trip_type             \u001b[3m\u001b[90m<chr>\u001b[39m\u001b[23m \"RoundTrip\", \"RoundTrip\", \"RoundTrip\", \"RoundTri…\n",
      "$ purchase_lead         \u001b[3m\u001b[90m<int>\u001b[39m\u001b[23m 262, 112, 243, 96, 68, 3, 201, 238, 80, 378, 185…\n",
      "$ length_of_stay        \u001b[3m\u001b[90m<int>\u001b[39m\u001b[23m 19, 20, 22, 31, 22, 48, 33, 19, 22, 30, 25, 43, …\n",
      "$ flight_hour           \u001b[3m\u001b[90m<int>\u001b[39m\u001b[23m 7, 3, 17, 4, 15, 20, 6, 14, 4, 12, 14, 2, 19, 14…\n",
      "$ flight_day            \u001b[3m\u001b[90m<chr>\u001b[39m\u001b[23m \"Sat\", \"Sat\", \"Wed\", \"Sat\", \"Wed\", \"Thu\", \"Thu\",…\n",
      "$ route                 \u001b[3m\u001b[90m<chr>\u001b[39m\u001b[23m \"AKLDEL\", \"AKLDEL\", \"AKLDEL\", \"AKLDEL\", \"AKLDEL\"…\n",
      "$ booking_origin        \u001b[3m\u001b[90m<chr>\u001b[39m\u001b[23m \"New Zealand\", \"New Zealand\", \"India\", \"New Zeal…\n",
      "$ wants_extra_baggage   \u001b[3m\u001b[90m<int>\u001b[39m\u001b[23m 1, 0, 1, 0, 1, 1, 1, 1, 0, 0, 1, 1, 1, 0, 1, 1, …\n",
      "$ wants_preferred_seat  \u001b[3m\u001b[90m<int>\u001b[39m\u001b[23m 0, 0, 1, 0, 0, 0, 0, 0, 0, 0, 1, 1, 0, 0, 1, 0, …\n",
      "$ wants_in_flight_meals \u001b[3m\u001b[90m<int>\u001b[39m\u001b[23m 0, 0, 0, 1, 1, 1, 1, 1, 1, 0, 1, 1, 1, 0, 1, 0, …\n",
      "$ flight_duration       \u001b[3m\u001b[90m<dbl>\u001b[39m\u001b[23m 5.52, 5.52, 5.52, 5.52, 5.52, 5.52, 5.52, 5.52, …\n",
      "$ booking_complete      \u001b[3m\u001b[90m<int>\u001b[39m\u001b[23m 0, 0, 0, 0, 0, 0, 0, 0, 0, 0, 0, 0, 0, 0, 0, 0, …\n"
     ]
    }
   ],
   "source": [
    "df%>%glimpse"
   ]
  },
  {
   "cell_type": "code",
   "execution_count": 5,
   "id": "35dfcc48",
   "metadata": {
    "execution": {
     "iopub.execute_input": "2024-04-30T13:47:06.433945Z",
     "iopub.status.busy": "2024-04-30T13:47:06.432308Z",
     "iopub.status.idle": "2024-04-30T13:47:06.453884Z",
     "shell.execute_reply": "2024-04-30T13:47:06.452000Z"
    },
    "papermill": {
     "duration": 0.034655,
     "end_time": "2024-04-30T13:47:06.457041",
     "exception": false,
     "start_time": "2024-04-30T13:47:06.422386",
     "status": "completed"
    },
    "tags": []
   },
   "outputs": [
    {
     "data": {
      "text/html": [
       "FALSE"
      ],
      "text/latex": [
       "FALSE"
      ],
      "text/markdown": [
       "FALSE"
      ],
      "text/plain": [
       "[1] FALSE"
      ]
     },
     "metadata": {},
     "output_type": "display_data"
    }
   ],
   "source": [
    "# Checking for missing values\n",
    "any(is.na(df))"
   ]
  },
  {
   "cell_type": "code",
   "execution_count": 6,
   "id": "bcdcbb34",
   "metadata": {
    "execution": {
     "iopub.execute_input": "2024-04-30T13:47:06.477171Z",
     "iopub.status.busy": "2024-04-30T13:47:06.475038Z",
     "iopub.status.idle": "2024-04-30T13:47:06.499171Z",
     "shell.execute_reply": "2024-04-30T13:47:06.496639Z"
    },
    "papermill": {
     "duration": 0.037791,
     "end_time": "2024-04-30T13:47:06.502644",
     "exception": false,
     "start_time": "2024-04-30T13:47:06.464853",
     "status": "completed"
    },
    "tags": []
   },
   "outputs": [
    {
     "data": {
      "text/html": [
       "0"
      ],
      "text/latex": [
       "0"
      ],
      "text/markdown": [
       "0"
      ],
      "text/plain": [
       "[1] 0"
      ]
     },
     "metadata": {},
     "output_type": "display_data"
    }
   ],
   "source": [
    "sum(is.na(df))"
   ]
  },
  {
   "cell_type": "code",
   "execution_count": 7,
   "id": "6b2da371",
   "metadata": {
    "execution": {
     "iopub.execute_input": "2024-04-30T13:47:06.524925Z",
     "iopub.status.busy": "2024-04-30T13:47:06.523059Z",
     "iopub.status.idle": "2024-04-30T13:47:06.707976Z",
     "shell.execute_reply": "2024-04-30T13:47:06.704829Z"
    },
    "papermill": {
     "duration": 0.200381,
     "end_time": "2024-04-30T13:47:06.711772",
     "exception": false,
     "start_time": "2024-04-30T13:47:06.511391",
     "status": "completed"
    },
    "tags": []
   },
   "outputs": [
    {
     "data": {
      "text/html": [
       "<table class=\"dataframe\">\n",
       "<caption>A data.frame: 49281 × 14</caption>\n",
       "<thead>\n",
       "\t<tr><th scope=col>num_passengers</th><th scope=col>sales_channel</th><th scope=col>trip_type</th><th scope=col>purchase_lead</th><th scope=col>length_of_stay</th><th scope=col>flight_hour</th><th scope=col>flight_day</th><th scope=col>route</th><th scope=col>booking_origin</th><th scope=col>wants_extra_baggage</th><th scope=col>wants_preferred_seat</th><th scope=col>wants_in_flight_meals</th><th scope=col>flight_duration</th><th scope=col>booking_complete</th></tr>\n",
       "\t<tr><th scope=col>&lt;int&gt;</th><th scope=col>&lt;chr&gt;</th><th scope=col>&lt;chr&gt;</th><th scope=col>&lt;int&gt;</th><th scope=col>&lt;int&gt;</th><th scope=col>&lt;int&gt;</th><th scope=col>&lt;chr&gt;</th><th scope=col>&lt;chr&gt;</th><th scope=col>&lt;chr&gt;</th><th scope=col>&lt;int&gt;</th><th scope=col>&lt;int&gt;</th><th scope=col>&lt;int&gt;</th><th scope=col>&lt;dbl&gt;</th><th scope=col>&lt;int&gt;</th></tr>\n",
       "</thead>\n",
       "<tbody>\n",
       "\t<tr><td>2</td><td>Internet</td><td>RoundTrip </td><td>262</td><td> 19</td><td> 7</td><td>Sat</td><td>AKLDEL</td><td>New Zealand   </td><td>1</td><td>0</td><td>0</td><td>5.52</td><td>0</td></tr>\n",
       "\t<tr><td>1</td><td>Internet</td><td>RoundTrip </td><td>112</td><td> 20</td><td> 3</td><td>Sat</td><td>AKLDEL</td><td>New Zealand   </td><td>0</td><td>0</td><td>0</td><td>5.52</td><td>0</td></tr>\n",
       "\t<tr><td>2</td><td>Internet</td><td>RoundTrip </td><td>243</td><td> 22</td><td>17</td><td>Wed</td><td>AKLDEL</td><td>India         </td><td>1</td><td>1</td><td>0</td><td>5.52</td><td>0</td></tr>\n",
       "\t<tr><td>1</td><td>Internet</td><td>RoundTrip </td><td> 96</td><td> 31</td><td> 4</td><td>Sat</td><td>AKLDEL</td><td>New Zealand   </td><td>0</td><td>0</td><td>1</td><td>5.52</td><td>0</td></tr>\n",
       "\t<tr><td>2</td><td>Internet</td><td>RoundTrip </td><td> 68</td><td> 22</td><td>15</td><td>Wed</td><td>AKLDEL</td><td>India         </td><td>1</td><td>0</td><td>1</td><td>5.52</td><td>0</td></tr>\n",
       "\t<tr><td>1</td><td>Internet</td><td>RoundTrip </td><td>  3</td><td> 48</td><td>20</td><td>Thu</td><td>AKLDEL</td><td>New Zealand   </td><td>1</td><td>0</td><td>1</td><td>5.52</td><td>0</td></tr>\n",
       "\t<tr><td>3</td><td>Internet</td><td>RoundTrip </td><td>201</td><td> 33</td><td> 6</td><td>Thu</td><td>AKLDEL</td><td>New Zealand   </td><td>1</td><td>0</td><td>1</td><td>5.52</td><td>0</td></tr>\n",
       "\t<tr><td>2</td><td>Internet</td><td>RoundTrip </td><td>238</td><td> 19</td><td>14</td><td>Mon</td><td>AKLDEL</td><td>India         </td><td>1</td><td>0</td><td>1</td><td>5.52</td><td>0</td></tr>\n",
       "\t<tr><td>1</td><td>Internet</td><td>RoundTrip </td><td> 80</td><td> 22</td><td> 4</td><td>Mon</td><td>AKLDEL</td><td>New Zealand   </td><td>0</td><td>0</td><td>1</td><td>5.52</td><td>0</td></tr>\n",
       "\t<tr><td>1</td><td>Mobile  </td><td>RoundTrip </td><td>378</td><td> 30</td><td>12</td><td>Sun</td><td>AKLDEL</td><td>India         </td><td>0</td><td>0</td><td>0</td><td>5.52</td><td>0</td></tr>\n",
       "\t<tr><td>2</td><td>Internet</td><td>RoundTrip </td><td>185</td><td> 25</td><td>14</td><td>Tue</td><td>AKLDEL</td><td>United Kingdom</td><td>1</td><td>1</td><td>1</td><td>5.52</td><td>0</td></tr>\n",
       "\t<tr><td>1</td><td>Internet</td><td>RoundTrip </td><td>  8</td><td> 43</td><td> 2</td><td>Sat</td><td>AKLDEL</td><td>New Zealand   </td><td>1</td><td>1</td><td>1</td><td>5.52</td><td>0</td></tr>\n",
       "\t<tr><td>4</td><td>Internet</td><td>RoundTrip </td><td>265</td><td> 24</td><td>19</td><td>Mon</td><td>AKLDEL</td><td>New Zealand   </td><td>1</td><td>0</td><td>1</td><td>5.52</td><td>0</td></tr>\n",
       "\t<tr><td>1</td><td>Internet</td><td>RoundTrip </td><td>185</td><td> 17</td><td>14</td><td>Fri</td><td>AKLDEL</td><td>India         </td><td>0</td><td>0</td><td>0</td><td>5.52</td><td>0</td></tr>\n",
       "\t<tr><td>1</td><td>Internet</td><td>RoundTrip </td><td>245</td><td> 34</td><td> 4</td><td>Tue</td><td>AKLDEL</td><td>New Zealand   </td><td>1</td><td>1</td><td>1</td><td>5.52</td><td>0</td></tr>\n",
       "\t<tr><td>1</td><td>Internet</td><td>RoundTrip </td><td>192</td><td> 18</td><td>14</td><td>Thu</td><td>AKLDEL</td><td>India         </td><td>1</td><td>0</td><td>0</td><td>5.52</td><td>0</td></tr>\n",
       "\t<tr><td>1</td><td>Internet</td><td>RoundTrip </td><td>259</td><td> 37</td><td> 6</td><td>Sun</td><td>AKLDEL</td><td>India         </td><td>0</td><td>0</td><td>0</td><td>5.52</td><td>0</td></tr>\n",
       "\t<tr><td>1</td><td>Internet</td><td>RoundTrip </td><td> 19</td><td> 29</td><td>10</td><td>Sat</td><td>AKLDEL</td><td>New Zealand   </td><td>0</td><td>0</td><td>1</td><td>5.52</td><td>0</td></tr>\n",
       "\t<tr><td>1</td><td>Internet</td><td>RoundTrip </td><td> 67</td><td>155</td><td> 8</td><td>Sun</td><td>AKLDEL</td><td>New Zealand   </td><td>1</td><td>0</td><td>0</td><td>5.52</td><td>0</td></tr>\n",
       "\t<tr><td>1</td><td>Internet</td><td>RoundTrip </td><td>351</td><td> 17</td><td> 3</td><td>Sun</td><td>AKLHGH</td><td>China         </td><td>0</td><td>0</td><td>0</td><td>5.07</td><td>0</td></tr>\n",
       "\t<tr><td>2</td><td>Internet</td><td>CircleTrip</td><td>228</td><td> 29</td><td>23</td><td>Wed</td><td>AKLHND</td><td>New Zealand   </td><td>1</td><td>0</td><td>0</td><td>7.57</td><td>0</td></tr>\n",
       "\t<tr><td>1</td><td>Internet</td><td>RoundTrip </td><td> 21</td><td> 88</td><td> 9</td><td>Wed</td><td>AKLICN</td><td>South Korea   </td><td>1</td><td>0</td><td>1</td><td>6.62</td><td>0</td></tr>\n",
       "\t<tr><td>2</td><td>Internet</td><td>RoundTrip </td><td> 23</td><td> 19</td><td> 8</td><td>Mon</td><td>AKLICN</td><td>New Zealand   </td><td>1</td><td>0</td><td>1</td><td>6.62</td><td>0</td></tr>\n",
       "\t<tr><td>2</td><td>Internet</td><td>RoundTrip </td><td> 25</td><td> 27</td><td>13</td><td>Fri</td><td>AKLICN</td><td>South Korea   </td><td>1</td><td>0</td><td>1</td><td>6.62</td><td>0</td></tr>\n",
       "\t<tr><td>1</td><td>Internet</td><td>RoundTrip </td><td> 16</td><td> 21</td><td> 6</td><td>Thu</td><td>AKLICN</td><td>New Zealand   </td><td>1</td><td>0</td><td>1</td><td>6.62</td><td>0</td></tr>\n",
       "\t<tr><td>1</td><td>Internet</td><td>RoundTrip </td><td> 66</td><td> 20</td><td> 7</td><td>Thu</td><td>AKLICN</td><td>South Korea   </td><td>1</td><td>0</td><td>0</td><td>6.62</td><td>0</td></tr>\n",
       "\t<tr><td>1</td><td>Internet</td><td>RoundTrip </td><td> 51</td><td> 28</td><td> 6</td><td>Fri</td><td>AKLICN</td><td>South Korea   </td><td>0</td><td>0</td><td>0</td><td>6.62</td><td>0</td></tr>\n",
       "\t<tr><td>2</td><td>Internet</td><td>RoundTrip </td><td> 37</td><td> 24</td><td> 7</td><td>Mon</td><td>AKLICN</td><td>New Zealand   </td><td>1</td><td>0</td><td>0</td><td>6.62</td><td>0</td></tr>\n",
       "\t<tr><td>1</td><td>Internet</td><td>RoundTrip </td><td>101</td><td> 19</td><td>11</td><td>Tue</td><td>AKLICN</td><td>South Korea   </td><td>1</td><td>0</td><td>1</td><td>6.62</td><td>0</td></tr>\n",
       "\t<tr><td>1</td><td>Internet</td><td>RoundTrip </td><td> 19</td><td> 47</td><td> 2</td><td>Tue</td><td>AKLICN</td><td>New Zealand   </td><td>1</td><td>0</td><td>1</td><td>6.62</td><td>0</td></tr>\n",
       "\t<tr><td>⋮</td><td>⋮</td><td>⋮</td><td>⋮</td><td>⋮</td><td>⋮</td><td>⋮</td><td>⋮</td><td>⋮</td><td>⋮</td><td>⋮</td><td>⋮</td><td>⋮</td><td>⋮</td></tr>\n",
       "\t<tr><td>2</td><td>Internet</td><td>RoundTrip</td><td> 52</td><td>6</td><td>10</td><td>Sun</td><td>PENTPE</td><td>Malaysia </td><td>1</td><td>1</td><td>1</td><td>4.67</td><td>1</td></tr>\n",
       "\t<tr><td>2</td><td>Mobile  </td><td>RoundTrip</td><td> 38</td><td>6</td><td> 1</td><td>Sat</td><td>PENTPE</td><td>Malaysia </td><td>0</td><td>0</td><td>1</td><td>4.67</td><td>1</td></tr>\n",
       "\t<tr><td>1</td><td>Internet</td><td>RoundTrip</td><td> 33</td><td>6</td><td> 6</td><td>Wed</td><td>PENTPE</td><td>Taiwan   </td><td>1</td><td>1</td><td>0</td><td>4.67</td><td>1</td></tr>\n",
       "\t<tr><td>2</td><td>Internet</td><td>RoundTrip</td><td>333</td><td>6</td><td> 6</td><td>Thu</td><td>PENTPE</td><td>Malaysia </td><td>1</td><td>0</td><td>1</td><td>4.67</td><td>0</td></tr>\n",
       "\t<tr><td>3</td><td>Mobile  </td><td>RoundTrip</td><td>242</td><td>6</td><td> 3</td><td>Sat</td><td>PENTPE</td><td>Malaysia </td><td>0</td><td>0</td><td>0</td><td>4.67</td><td>0</td></tr>\n",
       "\t<tr><td>1</td><td>Internet</td><td>RoundTrip</td><td>265</td><td>6</td><td>12</td><td>Tue</td><td>PENTPE</td><td>Taiwan   </td><td>0</td><td>0</td><td>0</td><td>4.67</td><td>0</td></tr>\n",
       "\t<tr><td>4</td><td>Internet</td><td>RoundTrip</td><td>151</td><td>6</td><td>15</td><td>Tue</td><td>PENTPE</td><td>Malaysia </td><td>1</td><td>0</td><td>0</td><td>4.67</td><td>0</td></tr>\n",
       "\t<tr><td>2</td><td>Internet</td><td>RoundTrip</td><td> 15</td><td>6</td><td>16</td><td>Tue</td><td>PENTPE</td><td>Malaysia </td><td>1</td><td>1</td><td>1</td><td>4.67</td><td>1</td></tr>\n",
       "\t<tr><td>2</td><td>Internet</td><td>RoundTrip</td><td> 22</td><td>6</td><td> 8</td><td>Fri</td><td>PENTPE</td><td>Malaysia </td><td>1</td><td>0</td><td>1</td><td>4.67</td><td>0</td></tr>\n",
       "\t<tr><td>2</td><td>Internet</td><td>RoundTrip</td><td> 41</td><td>6</td><td> 4</td><td>Tue</td><td>PENTPE</td><td>Malaysia </td><td>1</td><td>0</td><td>0</td><td>4.67</td><td>0</td></tr>\n",
       "\t<tr><td>4</td><td>Internet</td><td>RoundTrip</td><td>242</td><td>6</td><td> 9</td><td>Tue</td><td>PENXIY</td><td>Malaysia </td><td>1</td><td>0</td><td>1</td><td>5.00</td><td>1</td></tr>\n",
       "\t<tr><td>1</td><td>Internet</td><td>RoundTrip</td><td>317</td><td>6</td><td> 1</td><td>Thu</td><td>PENXIY</td><td>Malaysia </td><td>1</td><td>0</td><td>1</td><td>5.00</td><td>0</td></tr>\n",
       "\t<tr><td>2</td><td>Internet</td><td>RoundTrip</td><td>177</td><td>6</td><td> 8</td><td>Thu</td><td>PENXIY</td><td>Malaysia </td><td>1</td><td>1</td><td>0</td><td>5.00</td><td>0</td></tr>\n",
       "\t<tr><td>1</td><td>Internet</td><td>RoundTrip</td><td>112</td><td>6</td><td>17</td><td>Tue</td><td>PERPNH</td><td>Australia</td><td>0</td><td>0</td><td>1</td><td>5.62</td><td>0</td></tr>\n",
       "\t<tr><td>2</td><td>Internet</td><td>RoundTrip</td><td>  7</td><td>6</td><td> 4</td><td>Wed</td><td>PERPNH</td><td>Australia</td><td>0</td><td>0</td><td>0</td><td>5.62</td><td>1</td></tr>\n",
       "\t<tr><td>1</td><td>Internet</td><td>RoundTrip</td><td> 26</td><td>6</td><td>13</td><td>Wed</td><td>PERPNH</td><td>Australia</td><td>1</td><td>1</td><td>1</td><td>5.62</td><td>0</td></tr>\n",
       "\t<tr><td>1</td><td>Internet</td><td>RoundTrip</td><td> 94</td><td>6</td><td>19</td><td>Sat</td><td>PERPNH</td><td>Australia</td><td>0</td><td>0</td><td>0</td><td>5.62</td><td>0</td></tr>\n",
       "\t<tr><td>3</td><td>Internet</td><td>RoundTrip</td><td>243</td><td>6</td><td>12</td><td>Fri</td><td>PERPNH</td><td>Australia</td><td>1</td><td>0</td><td>1</td><td>5.62</td><td>1</td></tr>\n",
       "\t<tr><td>1</td><td>Internet</td><td>RoundTrip</td><td>  6</td><td>6</td><td>14</td><td>Thu</td><td>PERPNH</td><td>Australia</td><td>1</td><td>1</td><td>1</td><td>5.62</td><td>0</td></tr>\n",
       "\t<tr><td>1</td><td>Internet</td><td>RoundTrip</td><td> 33</td><td>6</td><td> 2</td><td>Sat</td><td>PERPNH</td><td>Cambodia </td><td>1</td><td>0</td><td>0</td><td>5.62</td><td>0</td></tr>\n",
       "\t<tr><td>1</td><td>Internet</td><td>RoundTrip</td><td> 12</td><td>6</td><td>10</td><td>Sat</td><td>PERPNH</td><td>Australia</td><td>0</td><td>0</td><td>0</td><td>5.62</td><td>0</td></tr>\n",
       "\t<tr><td>1</td><td>Internet</td><td>RoundTrip</td><td>  8</td><td>6</td><td> 6</td><td>Mon</td><td>PERPNH</td><td>Australia</td><td>0</td><td>1</td><td>0</td><td>5.62</td><td>0</td></tr>\n",
       "\t<tr><td>1</td><td>Internet</td><td>RoundTrip</td><td> 14</td><td>6</td><td>12</td><td>Fri</td><td>PERPNH</td><td>Australia</td><td>1</td><td>0</td><td>0</td><td>5.62</td><td>0</td></tr>\n",
       "\t<tr><td>1</td><td>Internet</td><td>RoundTrip</td><td> 19</td><td>6</td><td>12</td><td>Sun</td><td>PERPNH</td><td>Australia</td><td>1</td><td>0</td><td>0</td><td>5.62</td><td>0</td></tr>\n",
       "\t<tr><td>2</td><td>Internet</td><td>RoundTrip</td><td> 25</td><td>6</td><td> 9</td><td>Sun</td><td>PERPNH</td><td>Australia</td><td>0</td><td>0</td><td>0</td><td>5.62</td><td>0</td></tr>\n",
       "\t<tr><td>2</td><td>Internet</td><td>RoundTrip</td><td> 27</td><td>6</td><td> 9</td><td>Sat</td><td>PERPNH</td><td>Australia</td><td>1</td><td>0</td><td>1</td><td>5.62</td><td>0</td></tr>\n",
       "\t<tr><td>1</td><td>Internet</td><td>RoundTrip</td><td>111</td><td>6</td><td> 4</td><td>Sun</td><td>PERPNH</td><td>Australia</td><td>0</td><td>0</td><td>0</td><td>5.62</td><td>0</td></tr>\n",
       "\t<tr><td>1</td><td>Internet</td><td>RoundTrip</td><td> 24</td><td>6</td><td>22</td><td>Sat</td><td>PERPNH</td><td>Australia</td><td>0</td><td>0</td><td>1</td><td>5.62</td><td>0</td></tr>\n",
       "\t<tr><td>1</td><td>Internet</td><td>RoundTrip</td><td> 15</td><td>6</td><td>11</td><td>Mon</td><td>PERPNH</td><td>Australia</td><td>1</td><td>0</td><td>1</td><td>5.62</td><td>0</td></tr>\n",
       "\t<tr><td>1</td><td>Internet</td><td>RoundTrip</td><td> 19</td><td>6</td><td>10</td><td>Thu</td><td>PERPNH</td><td>Australia</td><td>0</td><td>1</td><td>0</td><td>5.62</td><td>0</td></tr>\n",
       "</tbody>\n",
       "</table>\n"
      ],
      "text/latex": [
       "A data.frame: 49281 × 14\n",
       "\\begin{tabular}{llllllllllllll}\n",
       " num\\_passengers & sales\\_channel & trip\\_type & purchase\\_lead & length\\_of\\_stay & flight\\_hour & flight\\_day & route & booking\\_origin & wants\\_extra\\_baggage & wants\\_preferred\\_seat & wants\\_in\\_flight\\_meals & flight\\_duration & booking\\_complete\\\\\n",
       " <int> & <chr> & <chr> & <int> & <int> & <int> & <chr> & <chr> & <chr> & <int> & <int> & <int> & <dbl> & <int>\\\\\n",
       "\\hline\n",
       "\t 2 & Internet & RoundTrip  & 262 &  19 &  7 & Sat & AKLDEL & New Zealand    & 1 & 0 & 0 & 5.52 & 0\\\\\n",
       "\t 1 & Internet & RoundTrip  & 112 &  20 &  3 & Sat & AKLDEL & New Zealand    & 0 & 0 & 0 & 5.52 & 0\\\\\n",
       "\t 2 & Internet & RoundTrip  & 243 &  22 & 17 & Wed & AKLDEL & India          & 1 & 1 & 0 & 5.52 & 0\\\\\n",
       "\t 1 & Internet & RoundTrip  &  96 &  31 &  4 & Sat & AKLDEL & New Zealand    & 0 & 0 & 1 & 5.52 & 0\\\\\n",
       "\t 2 & Internet & RoundTrip  &  68 &  22 & 15 & Wed & AKLDEL & India          & 1 & 0 & 1 & 5.52 & 0\\\\\n",
       "\t 1 & Internet & RoundTrip  &   3 &  48 & 20 & Thu & AKLDEL & New Zealand    & 1 & 0 & 1 & 5.52 & 0\\\\\n",
       "\t 3 & Internet & RoundTrip  & 201 &  33 &  6 & Thu & AKLDEL & New Zealand    & 1 & 0 & 1 & 5.52 & 0\\\\\n",
       "\t 2 & Internet & RoundTrip  & 238 &  19 & 14 & Mon & AKLDEL & India          & 1 & 0 & 1 & 5.52 & 0\\\\\n",
       "\t 1 & Internet & RoundTrip  &  80 &  22 &  4 & Mon & AKLDEL & New Zealand    & 0 & 0 & 1 & 5.52 & 0\\\\\n",
       "\t 1 & Mobile   & RoundTrip  & 378 &  30 & 12 & Sun & AKLDEL & India          & 0 & 0 & 0 & 5.52 & 0\\\\\n",
       "\t 2 & Internet & RoundTrip  & 185 &  25 & 14 & Tue & AKLDEL & United Kingdom & 1 & 1 & 1 & 5.52 & 0\\\\\n",
       "\t 1 & Internet & RoundTrip  &   8 &  43 &  2 & Sat & AKLDEL & New Zealand    & 1 & 1 & 1 & 5.52 & 0\\\\\n",
       "\t 4 & Internet & RoundTrip  & 265 &  24 & 19 & Mon & AKLDEL & New Zealand    & 1 & 0 & 1 & 5.52 & 0\\\\\n",
       "\t 1 & Internet & RoundTrip  & 185 &  17 & 14 & Fri & AKLDEL & India          & 0 & 0 & 0 & 5.52 & 0\\\\\n",
       "\t 1 & Internet & RoundTrip  & 245 &  34 &  4 & Tue & AKLDEL & New Zealand    & 1 & 1 & 1 & 5.52 & 0\\\\\n",
       "\t 1 & Internet & RoundTrip  & 192 &  18 & 14 & Thu & AKLDEL & India          & 1 & 0 & 0 & 5.52 & 0\\\\\n",
       "\t 1 & Internet & RoundTrip  & 259 &  37 &  6 & Sun & AKLDEL & India          & 0 & 0 & 0 & 5.52 & 0\\\\\n",
       "\t 1 & Internet & RoundTrip  &  19 &  29 & 10 & Sat & AKLDEL & New Zealand    & 0 & 0 & 1 & 5.52 & 0\\\\\n",
       "\t 1 & Internet & RoundTrip  &  67 & 155 &  8 & Sun & AKLDEL & New Zealand    & 1 & 0 & 0 & 5.52 & 0\\\\\n",
       "\t 1 & Internet & RoundTrip  & 351 &  17 &  3 & Sun & AKLHGH & China          & 0 & 0 & 0 & 5.07 & 0\\\\\n",
       "\t 2 & Internet & CircleTrip & 228 &  29 & 23 & Wed & AKLHND & New Zealand    & 1 & 0 & 0 & 7.57 & 0\\\\\n",
       "\t 1 & Internet & RoundTrip  &  21 &  88 &  9 & Wed & AKLICN & South Korea    & 1 & 0 & 1 & 6.62 & 0\\\\\n",
       "\t 2 & Internet & RoundTrip  &  23 &  19 &  8 & Mon & AKLICN & New Zealand    & 1 & 0 & 1 & 6.62 & 0\\\\\n",
       "\t 2 & Internet & RoundTrip  &  25 &  27 & 13 & Fri & AKLICN & South Korea    & 1 & 0 & 1 & 6.62 & 0\\\\\n",
       "\t 1 & Internet & RoundTrip  &  16 &  21 &  6 & Thu & AKLICN & New Zealand    & 1 & 0 & 1 & 6.62 & 0\\\\\n",
       "\t 1 & Internet & RoundTrip  &  66 &  20 &  7 & Thu & AKLICN & South Korea    & 1 & 0 & 0 & 6.62 & 0\\\\\n",
       "\t 1 & Internet & RoundTrip  &  51 &  28 &  6 & Fri & AKLICN & South Korea    & 0 & 0 & 0 & 6.62 & 0\\\\\n",
       "\t 2 & Internet & RoundTrip  &  37 &  24 &  7 & Mon & AKLICN & New Zealand    & 1 & 0 & 0 & 6.62 & 0\\\\\n",
       "\t 1 & Internet & RoundTrip  & 101 &  19 & 11 & Tue & AKLICN & South Korea    & 1 & 0 & 1 & 6.62 & 0\\\\\n",
       "\t 1 & Internet & RoundTrip  &  19 &  47 &  2 & Tue & AKLICN & New Zealand    & 1 & 0 & 1 & 6.62 & 0\\\\\n",
       "\t ⋮ & ⋮ & ⋮ & ⋮ & ⋮ & ⋮ & ⋮ & ⋮ & ⋮ & ⋮ & ⋮ & ⋮ & ⋮ & ⋮\\\\\n",
       "\t 2 & Internet & RoundTrip &  52 & 6 & 10 & Sun & PENTPE & Malaysia  & 1 & 1 & 1 & 4.67 & 1\\\\\n",
       "\t 2 & Mobile   & RoundTrip &  38 & 6 &  1 & Sat & PENTPE & Malaysia  & 0 & 0 & 1 & 4.67 & 1\\\\\n",
       "\t 1 & Internet & RoundTrip &  33 & 6 &  6 & Wed & PENTPE & Taiwan    & 1 & 1 & 0 & 4.67 & 1\\\\\n",
       "\t 2 & Internet & RoundTrip & 333 & 6 &  6 & Thu & PENTPE & Malaysia  & 1 & 0 & 1 & 4.67 & 0\\\\\n",
       "\t 3 & Mobile   & RoundTrip & 242 & 6 &  3 & Sat & PENTPE & Malaysia  & 0 & 0 & 0 & 4.67 & 0\\\\\n",
       "\t 1 & Internet & RoundTrip & 265 & 6 & 12 & Tue & PENTPE & Taiwan    & 0 & 0 & 0 & 4.67 & 0\\\\\n",
       "\t 4 & Internet & RoundTrip & 151 & 6 & 15 & Tue & PENTPE & Malaysia  & 1 & 0 & 0 & 4.67 & 0\\\\\n",
       "\t 2 & Internet & RoundTrip &  15 & 6 & 16 & Tue & PENTPE & Malaysia  & 1 & 1 & 1 & 4.67 & 1\\\\\n",
       "\t 2 & Internet & RoundTrip &  22 & 6 &  8 & Fri & PENTPE & Malaysia  & 1 & 0 & 1 & 4.67 & 0\\\\\n",
       "\t 2 & Internet & RoundTrip &  41 & 6 &  4 & Tue & PENTPE & Malaysia  & 1 & 0 & 0 & 4.67 & 0\\\\\n",
       "\t 4 & Internet & RoundTrip & 242 & 6 &  9 & Tue & PENXIY & Malaysia  & 1 & 0 & 1 & 5.00 & 1\\\\\n",
       "\t 1 & Internet & RoundTrip & 317 & 6 &  1 & Thu & PENXIY & Malaysia  & 1 & 0 & 1 & 5.00 & 0\\\\\n",
       "\t 2 & Internet & RoundTrip & 177 & 6 &  8 & Thu & PENXIY & Malaysia  & 1 & 1 & 0 & 5.00 & 0\\\\\n",
       "\t 1 & Internet & RoundTrip & 112 & 6 & 17 & Tue & PERPNH & Australia & 0 & 0 & 1 & 5.62 & 0\\\\\n",
       "\t 2 & Internet & RoundTrip &   7 & 6 &  4 & Wed & PERPNH & Australia & 0 & 0 & 0 & 5.62 & 1\\\\\n",
       "\t 1 & Internet & RoundTrip &  26 & 6 & 13 & Wed & PERPNH & Australia & 1 & 1 & 1 & 5.62 & 0\\\\\n",
       "\t 1 & Internet & RoundTrip &  94 & 6 & 19 & Sat & PERPNH & Australia & 0 & 0 & 0 & 5.62 & 0\\\\\n",
       "\t 3 & Internet & RoundTrip & 243 & 6 & 12 & Fri & PERPNH & Australia & 1 & 0 & 1 & 5.62 & 1\\\\\n",
       "\t 1 & Internet & RoundTrip &   6 & 6 & 14 & Thu & PERPNH & Australia & 1 & 1 & 1 & 5.62 & 0\\\\\n",
       "\t 1 & Internet & RoundTrip &  33 & 6 &  2 & Sat & PERPNH & Cambodia  & 1 & 0 & 0 & 5.62 & 0\\\\\n",
       "\t 1 & Internet & RoundTrip &  12 & 6 & 10 & Sat & PERPNH & Australia & 0 & 0 & 0 & 5.62 & 0\\\\\n",
       "\t 1 & Internet & RoundTrip &   8 & 6 &  6 & Mon & PERPNH & Australia & 0 & 1 & 0 & 5.62 & 0\\\\\n",
       "\t 1 & Internet & RoundTrip &  14 & 6 & 12 & Fri & PERPNH & Australia & 1 & 0 & 0 & 5.62 & 0\\\\\n",
       "\t 1 & Internet & RoundTrip &  19 & 6 & 12 & Sun & PERPNH & Australia & 1 & 0 & 0 & 5.62 & 0\\\\\n",
       "\t 2 & Internet & RoundTrip &  25 & 6 &  9 & Sun & PERPNH & Australia & 0 & 0 & 0 & 5.62 & 0\\\\\n",
       "\t 2 & Internet & RoundTrip &  27 & 6 &  9 & Sat & PERPNH & Australia & 1 & 0 & 1 & 5.62 & 0\\\\\n",
       "\t 1 & Internet & RoundTrip & 111 & 6 &  4 & Sun & PERPNH & Australia & 0 & 0 & 0 & 5.62 & 0\\\\\n",
       "\t 1 & Internet & RoundTrip &  24 & 6 & 22 & Sat & PERPNH & Australia & 0 & 0 & 1 & 5.62 & 0\\\\\n",
       "\t 1 & Internet & RoundTrip &  15 & 6 & 11 & Mon & PERPNH & Australia & 1 & 0 & 1 & 5.62 & 0\\\\\n",
       "\t 1 & Internet & RoundTrip &  19 & 6 & 10 & Thu & PERPNH & Australia & 0 & 1 & 0 & 5.62 & 0\\\\\n",
       "\\end{tabular}\n"
      ],
      "text/markdown": [
       "\n",
       "A data.frame: 49281 × 14\n",
       "\n",
       "| num_passengers &lt;int&gt; | sales_channel &lt;chr&gt; | trip_type &lt;chr&gt; | purchase_lead &lt;int&gt; | length_of_stay &lt;int&gt; | flight_hour &lt;int&gt; | flight_day &lt;chr&gt; | route &lt;chr&gt; | booking_origin &lt;chr&gt; | wants_extra_baggage &lt;int&gt; | wants_preferred_seat &lt;int&gt; | wants_in_flight_meals &lt;int&gt; | flight_duration &lt;dbl&gt; | booking_complete &lt;int&gt; |\n",
       "|---|---|---|---|---|---|---|---|---|---|---|---|---|---|\n",
       "| 2 | Internet | RoundTrip  | 262 |  19 |  7 | Sat | AKLDEL | New Zealand    | 1 | 0 | 0 | 5.52 | 0 |\n",
       "| 1 | Internet | RoundTrip  | 112 |  20 |  3 | Sat | AKLDEL | New Zealand    | 0 | 0 | 0 | 5.52 | 0 |\n",
       "| 2 | Internet | RoundTrip  | 243 |  22 | 17 | Wed | AKLDEL | India          | 1 | 1 | 0 | 5.52 | 0 |\n",
       "| 1 | Internet | RoundTrip  |  96 |  31 |  4 | Sat | AKLDEL | New Zealand    | 0 | 0 | 1 | 5.52 | 0 |\n",
       "| 2 | Internet | RoundTrip  |  68 |  22 | 15 | Wed | AKLDEL | India          | 1 | 0 | 1 | 5.52 | 0 |\n",
       "| 1 | Internet | RoundTrip  |   3 |  48 | 20 | Thu | AKLDEL | New Zealand    | 1 | 0 | 1 | 5.52 | 0 |\n",
       "| 3 | Internet | RoundTrip  | 201 |  33 |  6 | Thu | AKLDEL | New Zealand    | 1 | 0 | 1 | 5.52 | 0 |\n",
       "| 2 | Internet | RoundTrip  | 238 |  19 | 14 | Mon | AKLDEL | India          | 1 | 0 | 1 | 5.52 | 0 |\n",
       "| 1 | Internet | RoundTrip  |  80 |  22 |  4 | Mon | AKLDEL | New Zealand    | 0 | 0 | 1 | 5.52 | 0 |\n",
       "| 1 | Mobile   | RoundTrip  | 378 |  30 | 12 | Sun | AKLDEL | India          | 0 | 0 | 0 | 5.52 | 0 |\n",
       "| 2 | Internet | RoundTrip  | 185 |  25 | 14 | Tue | AKLDEL | United Kingdom | 1 | 1 | 1 | 5.52 | 0 |\n",
       "| 1 | Internet | RoundTrip  |   8 |  43 |  2 | Sat | AKLDEL | New Zealand    | 1 | 1 | 1 | 5.52 | 0 |\n",
       "| 4 | Internet | RoundTrip  | 265 |  24 | 19 | Mon | AKLDEL | New Zealand    | 1 | 0 | 1 | 5.52 | 0 |\n",
       "| 1 | Internet | RoundTrip  | 185 |  17 | 14 | Fri | AKLDEL | India          | 0 | 0 | 0 | 5.52 | 0 |\n",
       "| 1 | Internet | RoundTrip  | 245 |  34 |  4 | Tue | AKLDEL | New Zealand    | 1 | 1 | 1 | 5.52 | 0 |\n",
       "| 1 | Internet | RoundTrip  | 192 |  18 | 14 | Thu | AKLDEL | India          | 1 | 0 | 0 | 5.52 | 0 |\n",
       "| 1 | Internet | RoundTrip  | 259 |  37 |  6 | Sun | AKLDEL | India          | 0 | 0 | 0 | 5.52 | 0 |\n",
       "| 1 | Internet | RoundTrip  |  19 |  29 | 10 | Sat | AKLDEL | New Zealand    | 0 | 0 | 1 | 5.52 | 0 |\n",
       "| 1 | Internet | RoundTrip  |  67 | 155 |  8 | Sun | AKLDEL | New Zealand    | 1 | 0 | 0 | 5.52 | 0 |\n",
       "| 1 | Internet | RoundTrip  | 351 |  17 |  3 | Sun | AKLHGH | China          | 0 | 0 | 0 | 5.07 | 0 |\n",
       "| 2 | Internet | CircleTrip | 228 |  29 | 23 | Wed | AKLHND | New Zealand    | 1 | 0 | 0 | 7.57 | 0 |\n",
       "| 1 | Internet | RoundTrip  |  21 |  88 |  9 | Wed | AKLICN | South Korea    | 1 | 0 | 1 | 6.62 | 0 |\n",
       "| 2 | Internet | RoundTrip  |  23 |  19 |  8 | Mon | AKLICN | New Zealand    | 1 | 0 | 1 | 6.62 | 0 |\n",
       "| 2 | Internet | RoundTrip  |  25 |  27 | 13 | Fri | AKLICN | South Korea    | 1 | 0 | 1 | 6.62 | 0 |\n",
       "| 1 | Internet | RoundTrip  |  16 |  21 |  6 | Thu | AKLICN | New Zealand    | 1 | 0 | 1 | 6.62 | 0 |\n",
       "| 1 | Internet | RoundTrip  |  66 |  20 |  7 | Thu | AKLICN | South Korea    | 1 | 0 | 0 | 6.62 | 0 |\n",
       "| 1 | Internet | RoundTrip  |  51 |  28 |  6 | Fri | AKLICN | South Korea    | 0 | 0 | 0 | 6.62 | 0 |\n",
       "| 2 | Internet | RoundTrip  |  37 |  24 |  7 | Mon | AKLICN | New Zealand    | 1 | 0 | 0 | 6.62 | 0 |\n",
       "| 1 | Internet | RoundTrip  | 101 |  19 | 11 | Tue | AKLICN | South Korea    | 1 | 0 | 1 | 6.62 | 0 |\n",
       "| 1 | Internet | RoundTrip  |  19 |  47 |  2 | Tue | AKLICN | New Zealand    | 1 | 0 | 1 | 6.62 | 0 |\n",
       "| ⋮ | ⋮ | ⋮ | ⋮ | ⋮ | ⋮ | ⋮ | ⋮ | ⋮ | ⋮ | ⋮ | ⋮ | ⋮ | ⋮ |\n",
       "| 2 | Internet | RoundTrip |  52 | 6 | 10 | Sun | PENTPE | Malaysia  | 1 | 1 | 1 | 4.67 | 1 |\n",
       "| 2 | Mobile   | RoundTrip |  38 | 6 |  1 | Sat | PENTPE | Malaysia  | 0 | 0 | 1 | 4.67 | 1 |\n",
       "| 1 | Internet | RoundTrip |  33 | 6 |  6 | Wed | PENTPE | Taiwan    | 1 | 1 | 0 | 4.67 | 1 |\n",
       "| 2 | Internet | RoundTrip | 333 | 6 |  6 | Thu | PENTPE | Malaysia  | 1 | 0 | 1 | 4.67 | 0 |\n",
       "| 3 | Mobile   | RoundTrip | 242 | 6 |  3 | Sat | PENTPE | Malaysia  | 0 | 0 | 0 | 4.67 | 0 |\n",
       "| 1 | Internet | RoundTrip | 265 | 6 | 12 | Tue | PENTPE | Taiwan    | 0 | 0 | 0 | 4.67 | 0 |\n",
       "| 4 | Internet | RoundTrip | 151 | 6 | 15 | Tue | PENTPE | Malaysia  | 1 | 0 | 0 | 4.67 | 0 |\n",
       "| 2 | Internet | RoundTrip |  15 | 6 | 16 | Tue | PENTPE | Malaysia  | 1 | 1 | 1 | 4.67 | 1 |\n",
       "| 2 | Internet | RoundTrip |  22 | 6 |  8 | Fri | PENTPE | Malaysia  | 1 | 0 | 1 | 4.67 | 0 |\n",
       "| 2 | Internet | RoundTrip |  41 | 6 |  4 | Tue | PENTPE | Malaysia  | 1 | 0 | 0 | 4.67 | 0 |\n",
       "| 4 | Internet | RoundTrip | 242 | 6 |  9 | Tue | PENXIY | Malaysia  | 1 | 0 | 1 | 5.00 | 1 |\n",
       "| 1 | Internet | RoundTrip | 317 | 6 |  1 | Thu | PENXIY | Malaysia  | 1 | 0 | 1 | 5.00 | 0 |\n",
       "| 2 | Internet | RoundTrip | 177 | 6 |  8 | Thu | PENXIY | Malaysia  | 1 | 1 | 0 | 5.00 | 0 |\n",
       "| 1 | Internet | RoundTrip | 112 | 6 | 17 | Tue | PERPNH | Australia | 0 | 0 | 1 | 5.62 | 0 |\n",
       "| 2 | Internet | RoundTrip |   7 | 6 |  4 | Wed | PERPNH | Australia | 0 | 0 | 0 | 5.62 | 1 |\n",
       "| 1 | Internet | RoundTrip |  26 | 6 | 13 | Wed | PERPNH | Australia | 1 | 1 | 1 | 5.62 | 0 |\n",
       "| 1 | Internet | RoundTrip |  94 | 6 | 19 | Sat | PERPNH | Australia | 0 | 0 | 0 | 5.62 | 0 |\n",
       "| 3 | Internet | RoundTrip | 243 | 6 | 12 | Fri | PERPNH | Australia | 1 | 0 | 1 | 5.62 | 1 |\n",
       "| 1 | Internet | RoundTrip |   6 | 6 | 14 | Thu | PERPNH | Australia | 1 | 1 | 1 | 5.62 | 0 |\n",
       "| 1 | Internet | RoundTrip |  33 | 6 |  2 | Sat | PERPNH | Cambodia  | 1 | 0 | 0 | 5.62 | 0 |\n",
       "| 1 | Internet | RoundTrip |  12 | 6 | 10 | Sat | PERPNH | Australia | 0 | 0 | 0 | 5.62 | 0 |\n",
       "| 1 | Internet | RoundTrip |   8 | 6 |  6 | Mon | PERPNH | Australia | 0 | 1 | 0 | 5.62 | 0 |\n",
       "| 1 | Internet | RoundTrip |  14 | 6 | 12 | Fri | PERPNH | Australia | 1 | 0 | 0 | 5.62 | 0 |\n",
       "| 1 | Internet | RoundTrip |  19 | 6 | 12 | Sun | PERPNH | Australia | 1 | 0 | 0 | 5.62 | 0 |\n",
       "| 2 | Internet | RoundTrip |  25 | 6 |  9 | Sun | PERPNH | Australia | 0 | 0 | 0 | 5.62 | 0 |\n",
       "| 2 | Internet | RoundTrip |  27 | 6 |  9 | Sat | PERPNH | Australia | 1 | 0 | 1 | 5.62 | 0 |\n",
       "| 1 | Internet | RoundTrip | 111 | 6 |  4 | Sun | PERPNH | Australia | 0 | 0 | 0 | 5.62 | 0 |\n",
       "| 1 | Internet | RoundTrip |  24 | 6 | 22 | Sat | PERPNH | Australia | 0 | 0 | 1 | 5.62 | 0 |\n",
       "| 1 | Internet | RoundTrip |  15 | 6 | 11 | Mon | PERPNH | Australia | 1 | 0 | 1 | 5.62 | 0 |\n",
       "| 1 | Internet | RoundTrip |  19 | 6 | 10 | Thu | PERPNH | Australia | 0 | 1 | 0 | 5.62 | 0 |\n",
       "\n"
      ],
      "text/plain": [
       "      num_passengers sales_channel trip_type  purchase_lead length_of_stay\n",
       "1     2              Internet      RoundTrip  262            19           \n",
       "2     1              Internet      RoundTrip  112            20           \n",
       "3     2              Internet      RoundTrip  243            22           \n",
       "4     1              Internet      RoundTrip   96            31           \n",
       "5     2              Internet      RoundTrip   68            22           \n",
       "6     1              Internet      RoundTrip    3            48           \n",
       "7     3              Internet      RoundTrip  201            33           \n",
       "8     2              Internet      RoundTrip  238            19           \n",
       "9     1              Internet      RoundTrip   80            22           \n",
       "10    1              Mobile        RoundTrip  378            30           \n",
       "11    2              Internet      RoundTrip  185            25           \n",
       "12    1              Internet      RoundTrip    8            43           \n",
       "13    4              Internet      RoundTrip  265            24           \n",
       "14    1              Internet      RoundTrip  185            17           \n",
       "15    1              Internet      RoundTrip  245            34           \n",
       "16    1              Internet      RoundTrip  192            18           \n",
       "17    1              Internet      RoundTrip  259            37           \n",
       "18    1              Internet      RoundTrip   19            29           \n",
       "19    1              Internet      RoundTrip   67           155           \n",
       "20    1              Internet      RoundTrip  351            17           \n",
       "21    2              Internet      CircleTrip 228            29           \n",
       "22    1              Internet      RoundTrip   21            88           \n",
       "23    2              Internet      RoundTrip   23            19           \n",
       "24    2              Internet      RoundTrip   25            27           \n",
       "25    1              Internet      RoundTrip   16            21           \n",
       "26    1              Internet      RoundTrip   66            20           \n",
       "27    1              Internet      RoundTrip   51            28           \n",
       "28    2              Internet      RoundTrip   37            24           \n",
       "29    1              Internet      RoundTrip  101            19           \n",
       "30    1              Internet      RoundTrip   19            47           \n",
       "⋮     ⋮              ⋮             ⋮          ⋮             ⋮             \n",
       "49252 2              Internet      RoundTrip   52           6             \n",
       "49253 2              Mobile        RoundTrip   38           6             \n",
       "49254 1              Internet      RoundTrip   33           6             \n",
       "49255 2              Internet      RoundTrip  333           6             \n",
       "49256 3              Mobile        RoundTrip  242           6             \n",
       "49257 1              Internet      RoundTrip  265           6             \n",
       "49258 4              Internet      RoundTrip  151           6             \n",
       "49259 2              Internet      RoundTrip   15           6             \n",
       "49260 2              Internet      RoundTrip   22           6             \n",
       "49261 2              Internet      RoundTrip   41           6             \n",
       "49262 4              Internet      RoundTrip  242           6             \n",
       "49263 1              Internet      RoundTrip  317           6             \n",
       "49264 2              Internet      RoundTrip  177           6             \n",
       "49265 1              Internet      RoundTrip  112           6             \n",
       "49266 2              Internet      RoundTrip    7           6             \n",
       "49267 1              Internet      RoundTrip   26           6             \n",
       "49268 1              Internet      RoundTrip   94           6             \n",
       "49269 3              Internet      RoundTrip  243           6             \n",
       "49270 1              Internet      RoundTrip    6           6             \n",
       "49271 1              Internet      RoundTrip   33           6             \n",
       "49272 1              Internet      RoundTrip   12           6             \n",
       "49273 1              Internet      RoundTrip    8           6             \n",
       "49274 1              Internet      RoundTrip   14           6             \n",
       "49275 1              Internet      RoundTrip   19           6             \n",
       "49276 2              Internet      RoundTrip   25           6             \n",
       "49277 2              Internet      RoundTrip   27           6             \n",
       "49278 1              Internet      RoundTrip  111           6             \n",
       "49279 1              Internet      RoundTrip   24           6             \n",
       "49280 1              Internet      RoundTrip   15           6             \n",
       "49281 1              Internet      RoundTrip   19           6             \n",
       "      flight_hour flight_day route  booking_origin wants_extra_baggage\n",
       "1      7          Sat        AKLDEL New Zealand    1                  \n",
       "2      3          Sat        AKLDEL New Zealand    0                  \n",
       "3     17          Wed        AKLDEL India          1                  \n",
       "4      4          Sat        AKLDEL New Zealand    0                  \n",
       "5     15          Wed        AKLDEL India          1                  \n",
       "6     20          Thu        AKLDEL New Zealand    1                  \n",
       "7      6          Thu        AKLDEL New Zealand    1                  \n",
       "8     14          Mon        AKLDEL India          1                  \n",
       "9      4          Mon        AKLDEL New Zealand    0                  \n",
       "10    12          Sun        AKLDEL India          0                  \n",
       "11    14          Tue        AKLDEL United Kingdom 1                  \n",
       "12     2          Sat        AKLDEL New Zealand    1                  \n",
       "13    19          Mon        AKLDEL New Zealand    1                  \n",
       "14    14          Fri        AKLDEL India          0                  \n",
       "15     4          Tue        AKLDEL New Zealand    1                  \n",
       "16    14          Thu        AKLDEL India          1                  \n",
       "17     6          Sun        AKLDEL India          0                  \n",
       "18    10          Sat        AKLDEL New Zealand    0                  \n",
       "19     8          Sun        AKLDEL New Zealand    1                  \n",
       "20     3          Sun        AKLHGH China          0                  \n",
       "21    23          Wed        AKLHND New Zealand    1                  \n",
       "22     9          Wed        AKLICN South Korea    1                  \n",
       "23     8          Mon        AKLICN New Zealand    1                  \n",
       "24    13          Fri        AKLICN South Korea    1                  \n",
       "25     6          Thu        AKLICN New Zealand    1                  \n",
       "26     7          Thu        AKLICN South Korea    1                  \n",
       "27     6          Fri        AKLICN South Korea    0                  \n",
       "28     7          Mon        AKLICN New Zealand    1                  \n",
       "29    11          Tue        AKLICN South Korea    1                  \n",
       "30     2          Tue        AKLICN New Zealand    1                  \n",
       "⋮     ⋮           ⋮          ⋮      ⋮              ⋮                  \n",
       "49252 10          Sun        PENTPE Malaysia       1                  \n",
       "49253  1          Sat        PENTPE Malaysia       0                  \n",
       "49254  6          Wed        PENTPE Taiwan         1                  \n",
       "49255  6          Thu        PENTPE Malaysia       1                  \n",
       "49256  3          Sat        PENTPE Malaysia       0                  \n",
       "49257 12          Tue        PENTPE Taiwan         0                  \n",
       "49258 15          Tue        PENTPE Malaysia       1                  \n",
       "49259 16          Tue        PENTPE Malaysia       1                  \n",
       "49260  8          Fri        PENTPE Malaysia       1                  \n",
       "49261  4          Tue        PENTPE Malaysia       1                  \n",
       "49262  9          Tue        PENXIY Malaysia       1                  \n",
       "49263  1          Thu        PENXIY Malaysia       1                  \n",
       "49264  8          Thu        PENXIY Malaysia       1                  \n",
       "49265 17          Tue        PERPNH Australia      0                  \n",
       "49266  4          Wed        PERPNH Australia      0                  \n",
       "49267 13          Wed        PERPNH Australia      1                  \n",
       "49268 19          Sat        PERPNH Australia      0                  \n",
       "49269 12          Fri        PERPNH Australia      1                  \n",
       "49270 14          Thu        PERPNH Australia      1                  \n",
       "49271  2          Sat        PERPNH Cambodia       1                  \n",
       "49272 10          Sat        PERPNH Australia      0                  \n",
       "49273  6          Mon        PERPNH Australia      0                  \n",
       "49274 12          Fri        PERPNH Australia      1                  \n",
       "49275 12          Sun        PERPNH Australia      1                  \n",
       "49276  9          Sun        PERPNH Australia      0                  \n",
       "49277  9          Sat        PERPNH Australia      1                  \n",
       "49278  4          Sun        PERPNH Australia      0                  \n",
       "49279 22          Sat        PERPNH Australia      0                  \n",
       "49280 11          Mon        PERPNH Australia      1                  \n",
       "49281 10          Thu        PERPNH Australia      0                  \n",
       "      wants_preferred_seat wants_in_flight_meals flight_duration\n",
       "1     0                    0                     5.52           \n",
       "2     0                    0                     5.52           \n",
       "3     1                    0                     5.52           \n",
       "4     0                    1                     5.52           \n",
       "5     0                    1                     5.52           \n",
       "6     0                    1                     5.52           \n",
       "7     0                    1                     5.52           \n",
       "8     0                    1                     5.52           \n",
       "9     0                    1                     5.52           \n",
       "10    0                    0                     5.52           \n",
       "11    1                    1                     5.52           \n",
       "12    1                    1                     5.52           \n",
       "13    0                    1                     5.52           \n",
       "14    0                    0                     5.52           \n",
       "15    1                    1                     5.52           \n",
       "16    0                    0                     5.52           \n",
       "17    0                    0                     5.52           \n",
       "18    0                    1                     5.52           \n",
       "19    0                    0                     5.52           \n",
       "20    0                    0                     5.07           \n",
       "21    0                    0                     7.57           \n",
       "22    0                    1                     6.62           \n",
       "23    0                    1                     6.62           \n",
       "24    0                    1                     6.62           \n",
       "25    0                    1                     6.62           \n",
       "26    0                    0                     6.62           \n",
       "27    0                    0                     6.62           \n",
       "28    0                    0                     6.62           \n",
       "29    0                    1                     6.62           \n",
       "30    0                    1                     6.62           \n",
       "⋮     ⋮                    ⋮                     ⋮              \n",
       "49252 1                    1                     4.67           \n",
       "49253 0                    1                     4.67           \n",
       "49254 1                    0                     4.67           \n",
       "49255 0                    1                     4.67           \n",
       "49256 0                    0                     4.67           \n",
       "49257 0                    0                     4.67           \n",
       "49258 0                    0                     4.67           \n",
       "49259 1                    1                     4.67           \n",
       "49260 0                    1                     4.67           \n",
       "49261 0                    0                     4.67           \n",
       "49262 0                    1                     5.00           \n",
       "49263 0                    1                     5.00           \n",
       "49264 1                    0                     5.00           \n",
       "49265 0                    1                     5.62           \n",
       "49266 0                    0                     5.62           \n",
       "49267 1                    1                     5.62           \n",
       "49268 0                    0                     5.62           \n",
       "49269 0                    1                     5.62           \n",
       "49270 1                    1                     5.62           \n",
       "49271 0                    0                     5.62           \n",
       "49272 0                    0                     5.62           \n",
       "49273 1                    0                     5.62           \n",
       "49274 0                    0                     5.62           \n",
       "49275 0                    0                     5.62           \n",
       "49276 0                    0                     5.62           \n",
       "49277 0                    1                     5.62           \n",
       "49278 0                    0                     5.62           \n",
       "49279 0                    1                     5.62           \n",
       "49280 0                    1                     5.62           \n",
       "49281 1                    0                     5.62           \n",
       "      booking_complete\n",
       "1     0               \n",
       "2     0               \n",
       "3     0               \n",
       "4     0               \n",
       "5     0               \n",
       "6     0               \n",
       "7     0               \n",
       "8     0               \n",
       "9     0               \n",
       "10    0               \n",
       "11    0               \n",
       "12    0               \n",
       "13    0               \n",
       "14    0               \n",
       "15    0               \n",
       "16    0               \n",
       "17    0               \n",
       "18    0               \n",
       "19    0               \n",
       "20    0               \n",
       "21    0               \n",
       "22    0               \n",
       "23    0               \n",
       "24    0               \n",
       "25    0               \n",
       "26    0               \n",
       "27    0               \n",
       "28    0               \n",
       "29    0               \n",
       "30    0               \n",
       "⋮     ⋮               \n",
       "49252 1               \n",
       "49253 1               \n",
       "49254 1               \n",
       "49255 0               \n",
       "49256 0               \n",
       "49257 0               \n",
       "49258 0               \n",
       "49259 1               \n",
       "49260 0               \n",
       "49261 0               \n",
       "49262 1               \n",
       "49263 0               \n",
       "49264 0               \n",
       "49265 0               \n",
       "49266 1               \n",
       "49267 0               \n",
       "49268 0               \n",
       "49269 1               \n",
       "49270 0               \n",
       "49271 0               \n",
       "49272 0               \n",
       "49273 0               \n",
       "49274 0               \n",
       "49275 0               \n",
       "49276 0               \n",
       "49277 0               \n",
       "49278 0               \n",
       "49279 0               \n",
       "49280 0               \n",
       "49281 0               "
      ]
     },
     "metadata": {},
     "output_type": "display_data"
    }
   ],
   "source": [
    "distinct(df)"
   ]
  },
  {
   "cell_type": "code",
   "execution_count": 8,
   "id": "0dd8a202",
   "metadata": {
    "execution": {
     "iopub.execute_input": "2024-04-30T13:47:06.735201Z",
     "iopub.status.busy": "2024-04-30T13:47:06.733426Z",
     "iopub.status.idle": "2024-04-30T13:47:07.613404Z",
     "shell.execute_reply": "2024-04-30T13:47:07.610411Z"
    },
    "papermill": {
     "duration": 0.895675,
     "end_time": "2024-04-30T13:47:07.617067",
     "exception": false,
     "start_time": "2024-04-30T13:47:06.721392",
     "status": "completed"
    },
    "tags": []
   },
   "outputs": [
    {
     "data": {
      "text/html": [
       "<table class=\"dataframe\">\n",
       "<caption>A data.frame: 49281 × 14</caption>\n",
       "<thead>\n",
       "\t<tr><th></th><th scope=col>num_passengers</th><th scope=col>sales_channel</th><th scope=col>trip_type</th><th scope=col>purchase_lead</th><th scope=col>length_of_stay</th><th scope=col>flight_hour</th><th scope=col>flight_day</th><th scope=col>route</th><th scope=col>booking_origin</th><th scope=col>wants_extra_baggage</th><th scope=col>wants_preferred_seat</th><th scope=col>wants_in_flight_meals</th><th scope=col>flight_duration</th><th scope=col>booking_complete</th></tr>\n",
       "\t<tr><th></th><th scope=col>&lt;int&gt;</th><th scope=col>&lt;chr&gt;</th><th scope=col>&lt;chr&gt;</th><th scope=col>&lt;int&gt;</th><th scope=col>&lt;int&gt;</th><th scope=col>&lt;int&gt;</th><th scope=col>&lt;chr&gt;</th><th scope=col>&lt;chr&gt;</th><th scope=col>&lt;chr&gt;</th><th scope=col>&lt;int&gt;</th><th scope=col>&lt;int&gt;</th><th scope=col>&lt;int&gt;</th><th scope=col>&lt;dbl&gt;</th><th scope=col>&lt;int&gt;</th></tr>\n",
       "</thead>\n",
       "<tbody>\n",
       "\t<tr><th scope=row>1</th><td>2</td><td>Internet</td><td>RoundTrip </td><td>262</td><td> 19</td><td> 7</td><td>Sat</td><td>AKLDEL</td><td>New Zealand   </td><td>1</td><td>0</td><td>0</td><td>5.52</td><td>0</td></tr>\n",
       "\t<tr><th scope=row>2</th><td>1</td><td>Internet</td><td>RoundTrip </td><td>112</td><td> 20</td><td> 3</td><td>Sat</td><td>AKLDEL</td><td>New Zealand   </td><td>0</td><td>0</td><td>0</td><td>5.52</td><td>0</td></tr>\n",
       "\t<tr><th scope=row>3</th><td>2</td><td>Internet</td><td>RoundTrip </td><td>243</td><td> 22</td><td>17</td><td>Wed</td><td>AKLDEL</td><td>India         </td><td>1</td><td>1</td><td>0</td><td>5.52</td><td>0</td></tr>\n",
       "\t<tr><th scope=row>4</th><td>1</td><td>Internet</td><td>RoundTrip </td><td> 96</td><td> 31</td><td> 4</td><td>Sat</td><td>AKLDEL</td><td>New Zealand   </td><td>0</td><td>0</td><td>1</td><td>5.52</td><td>0</td></tr>\n",
       "\t<tr><th scope=row>5</th><td>2</td><td>Internet</td><td>RoundTrip </td><td> 68</td><td> 22</td><td>15</td><td>Wed</td><td>AKLDEL</td><td>India         </td><td>1</td><td>0</td><td>1</td><td>5.52</td><td>0</td></tr>\n",
       "\t<tr><th scope=row>6</th><td>1</td><td>Internet</td><td>RoundTrip </td><td>  3</td><td> 48</td><td>20</td><td>Thu</td><td>AKLDEL</td><td>New Zealand   </td><td>1</td><td>0</td><td>1</td><td>5.52</td><td>0</td></tr>\n",
       "\t<tr><th scope=row>7</th><td>3</td><td>Internet</td><td>RoundTrip </td><td>201</td><td> 33</td><td> 6</td><td>Thu</td><td>AKLDEL</td><td>New Zealand   </td><td>1</td><td>0</td><td>1</td><td>5.52</td><td>0</td></tr>\n",
       "\t<tr><th scope=row>8</th><td>2</td><td>Internet</td><td>RoundTrip </td><td>238</td><td> 19</td><td>14</td><td>Mon</td><td>AKLDEL</td><td>India         </td><td>1</td><td>0</td><td>1</td><td>5.52</td><td>0</td></tr>\n",
       "\t<tr><th scope=row>9</th><td>1</td><td>Internet</td><td>RoundTrip </td><td> 80</td><td> 22</td><td> 4</td><td>Mon</td><td>AKLDEL</td><td>New Zealand   </td><td>0</td><td>0</td><td>1</td><td>5.52</td><td>0</td></tr>\n",
       "\t<tr><th scope=row>10</th><td>1</td><td>Mobile  </td><td>RoundTrip </td><td>378</td><td> 30</td><td>12</td><td>Sun</td><td>AKLDEL</td><td>India         </td><td>0</td><td>0</td><td>0</td><td>5.52</td><td>0</td></tr>\n",
       "\t<tr><th scope=row>11</th><td>2</td><td>Internet</td><td>RoundTrip </td><td>185</td><td> 25</td><td>14</td><td>Tue</td><td>AKLDEL</td><td>United Kingdom</td><td>1</td><td>1</td><td>1</td><td>5.52</td><td>0</td></tr>\n",
       "\t<tr><th scope=row>12</th><td>1</td><td>Internet</td><td>RoundTrip </td><td>  8</td><td> 43</td><td> 2</td><td>Sat</td><td>AKLDEL</td><td>New Zealand   </td><td>1</td><td>1</td><td>1</td><td>5.52</td><td>0</td></tr>\n",
       "\t<tr><th scope=row>13</th><td>4</td><td>Internet</td><td>RoundTrip </td><td>265</td><td> 24</td><td>19</td><td>Mon</td><td>AKLDEL</td><td>New Zealand   </td><td>1</td><td>0</td><td>1</td><td>5.52</td><td>0</td></tr>\n",
       "\t<tr><th scope=row>14</th><td>1</td><td>Internet</td><td>RoundTrip </td><td>185</td><td> 17</td><td>14</td><td>Fri</td><td>AKLDEL</td><td>India         </td><td>0</td><td>0</td><td>0</td><td>5.52</td><td>0</td></tr>\n",
       "\t<tr><th scope=row>15</th><td>1</td><td>Internet</td><td>RoundTrip </td><td>245</td><td> 34</td><td> 4</td><td>Tue</td><td>AKLDEL</td><td>New Zealand   </td><td>1</td><td>1</td><td>1</td><td>5.52</td><td>0</td></tr>\n",
       "\t<tr><th scope=row>16</th><td>1</td><td>Internet</td><td>RoundTrip </td><td>192</td><td> 18</td><td>14</td><td>Thu</td><td>AKLDEL</td><td>India         </td><td>1</td><td>0</td><td>0</td><td>5.52</td><td>0</td></tr>\n",
       "\t<tr><th scope=row>17</th><td>1</td><td>Internet</td><td>RoundTrip </td><td>259</td><td> 37</td><td> 6</td><td>Sun</td><td>AKLDEL</td><td>India         </td><td>0</td><td>0</td><td>0</td><td>5.52</td><td>0</td></tr>\n",
       "\t<tr><th scope=row>18</th><td>1</td><td>Internet</td><td>RoundTrip </td><td> 19</td><td> 29</td><td>10</td><td>Sat</td><td>AKLDEL</td><td>New Zealand   </td><td>0</td><td>0</td><td>1</td><td>5.52</td><td>0</td></tr>\n",
       "\t<tr><th scope=row>19</th><td>1</td><td>Internet</td><td>RoundTrip </td><td> 67</td><td>155</td><td> 8</td><td>Sun</td><td>AKLDEL</td><td>New Zealand   </td><td>1</td><td>0</td><td>0</td><td>5.52</td><td>0</td></tr>\n",
       "\t<tr><th scope=row>20</th><td>1</td><td>Internet</td><td>RoundTrip </td><td>351</td><td> 17</td><td> 3</td><td>Sun</td><td>AKLHGH</td><td>China         </td><td>0</td><td>0</td><td>0</td><td>5.07</td><td>0</td></tr>\n",
       "\t<tr><th scope=row>21</th><td>2</td><td>Internet</td><td>CircleTrip</td><td>228</td><td> 29</td><td>23</td><td>Wed</td><td>AKLHND</td><td>New Zealand   </td><td>1</td><td>0</td><td>0</td><td>7.57</td><td>0</td></tr>\n",
       "\t<tr><th scope=row>22</th><td>1</td><td>Internet</td><td>RoundTrip </td><td> 21</td><td> 88</td><td> 9</td><td>Wed</td><td>AKLICN</td><td>South Korea   </td><td>1</td><td>0</td><td>1</td><td>6.62</td><td>0</td></tr>\n",
       "\t<tr><th scope=row>23</th><td>2</td><td>Internet</td><td>RoundTrip </td><td> 23</td><td> 19</td><td> 8</td><td>Mon</td><td>AKLICN</td><td>New Zealand   </td><td>1</td><td>0</td><td>1</td><td>6.62</td><td>0</td></tr>\n",
       "\t<tr><th scope=row>24</th><td>2</td><td>Internet</td><td>RoundTrip </td><td> 25</td><td> 27</td><td>13</td><td>Fri</td><td>AKLICN</td><td>South Korea   </td><td>1</td><td>0</td><td>1</td><td>6.62</td><td>0</td></tr>\n",
       "\t<tr><th scope=row>25</th><td>1</td><td>Internet</td><td>RoundTrip </td><td> 16</td><td> 21</td><td> 6</td><td>Thu</td><td>AKLICN</td><td>New Zealand   </td><td>1</td><td>0</td><td>1</td><td>6.62</td><td>0</td></tr>\n",
       "\t<tr><th scope=row>26</th><td>1</td><td>Internet</td><td>RoundTrip </td><td> 66</td><td> 20</td><td> 7</td><td>Thu</td><td>AKLICN</td><td>South Korea   </td><td>1</td><td>0</td><td>0</td><td>6.62</td><td>0</td></tr>\n",
       "\t<tr><th scope=row>27</th><td>1</td><td>Internet</td><td>RoundTrip </td><td> 51</td><td> 28</td><td> 6</td><td>Fri</td><td>AKLICN</td><td>South Korea   </td><td>0</td><td>0</td><td>0</td><td>6.62</td><td>0</td></tr>\n",
       "\t<tr><th scope=row>28</th><td>2</td><td>Internet</td><td>RoundTrip </td><td> 37</td><td> 24</td><td> 7</td><td>Mon</td><td>AKLICN</td><td>New Zealand   </td><td>1</td><td>0</td><td>0</td><td>6.62</td><td>0</td></tr>\n",
       "\t<tr><th scope=row>29</th><td>1</td><td>Internet</td><td>RoundTrip </td><td>101</td><td> 19</td><td>11</td><td>Tue</td><td>AKLICN</td><td>South Korea   </td><td>1</td><td>0</td><td>1</td><td>6.62</td><td>0</td></tr>\n",
       "\t<tr><th scope=row>30</th><td>1</td><td>Internet</td><td>RoundTrip </td><td> 19</td><td> 47</td><td> 2</td><td>Tue</td><td>AKLICN</td><td>New Zealand   </td><td>1</td><td>0</td><td>1</td><td>6.62</td><td>0</td></tr>\n",
       "\t<tr><th scope=row>⋮</th><td>⋮</td><td>⋮</td><td>⋮</td><td>⋮</td><td>⋮</td><td>⋮</td><td>⋮</td><td>⋮</td><td>⋮</td><td>⋮</td><td>⋮</td><td>⋮</td><td>⋮</td><td>⋮</td></tr>\n",
       "\t<tr><th scope=row>49971</th><td>2</td><td>Internet</td><td>RoundTrip</td><td> 52</td><td>6</td><td>10</td><td>Sun</td><td>PENTPE</td><td>Malaysia </td><td>1</td><td>1</td><td>1</td><td>4.67</td><td>1</td></tr>\n",
       "\t<tr><th scope=row>49972</th><td>2</td><td>Mobile  </td><td>RoundTrip</td><td> 38</td><td>6</td><td> 1</td><td>Sat</td><td>PENTPE</td><td>Malaysia </td><td>0</td><td>0</td><td>1</td><td>4.67</td><td>1</td></tr>\n",
       "\t<tr><th scope=row>49973</th><td>1</td><td>Internet</td><td>RoundTrip</td><td> 33</td><td>6</td><td> 6</td><td>Wed</td><td>PENTPE</td><td>Taiwan   </td><td>1</td><td>1</td><td>0</td><td>4.67</td><td>1</td></tr>\n",
       "\t<tr><th scope=row>49974</th><td>2</td><td>Internet</td><td>RoundTrip</td><td>333</td><td>6</td><td> 6</td><td>Thu</td><td>PENTPE</td><td>Malaysia </td><td>1</td><td>0</td><td>1</td><td>4.67</td><td>0</td></tr>\n",
       "\t<tr><th scope=row>49975</th><td>3</td><td>Mobile  </td><td>RoundTrip</td><td>242</td><td>6</td><td> 3</td><td>Sat</td><td>PENTPE</td><td>Malaysia </td><td>0</td><td>0</td><td>0</td><td>4.67</td><td>0</td></tr>\n",
       "\t<tr><th scope=row>49976</th><td>1</td><td>Internet</td><td>RoundTrip</td><td>265</td><td>6</td><td>12</td><td>Tue</td><td>PENTPE</td><td>Taiwan   </td><td>0</td><td>0</td><td>0</td><td>4.67</td><td>0</td></tr>\n",
       "\t<tr><th scope=row>49977</th><td>4</td><td>Internet</td><td>RoundTrip</td><td>151</td><td>6</td><td>15</td><td>Tue</td><td>PENTPE</td><td>Malaysia </td><td>1</td><td>0</td><td>0</td><td>4.67</td><td>0</td></tr>\n",
       "\t<tr><th scope=row>49978</th><td>2</td><td>Internet</td><td>RoundTrip</td><td> 15</td><td>6</td><td>16</td><td>Tue</td><td>PENTPE</td><td>Malaysia </td><td>1</td><td>1</td><td>1</td><td>4.67</td><td>1</td></tr>\n",
       "\t<tr><th scope=row>49979</th><td>2</td><td>Internet</td><td>RoundTrip</td><td> 22</td><td>6</td><td> 8</td><td>Fri</td><td>PENTPE</td><td>Malaysia </td><td>1</td><td>0</td><td>1</td><td>4.67</td><td>0</td></tr>\n",
       "\t<tr><th scope=row>49980</th><td>2</td><td>Internet</td><td>RoundTrip</td><td> 41</td><td>6</td><td> 4</td><td>Tue</td><td>PENTPE</td><td>Malaysia </td><td>1</td><td>0</td><td>0</td><td>4.67</td><td>0</td></tr>\n",
       "\t<tr><th scope=row>49981</th><td>4</td><td>Internet</td><td>RoundTrip</td><td>242</td><td>6</td><td> 9</td><td>Tue</td><td>PENXIY</td><td>Malaysia </td><td>1</td><td>0</td><td>1</td><td>5.00</td><td>1</td></tr>\n",
       "\t<tr><th scope=row>49982</th><td>1</td><td>Internet</td><td>RoundTrip</td><td>317</td><td>6</td><td> 1</td><td>Thu</td><td>PENXIY</td><td>Malaysia </td><td>1</td><td>0</td><td>1</td><td>5.00</td><td>0</td></tr>\n",
       "\t<tr><th scope=row>49983</th><td>2</td><td>Internet</td><td>RoundTrip</td><td>177</td><td>6</td><td> 8</td><td>Thu</td><td>PENXIY</td><td>Malaysia </td><td>1</td><td>1</td><td>0</td><td>5.00</td><td>0</td></tr>\n",
       "\t<tr><th scope=row>49984</th><td>1</td><td>Internet</td><td>RoundTrip</td><td>112</td><td>6</td><td>17</td><td>Tue</td><td>PERPNH</td><td>Australia</td><td>0</td><td>0</td><td>1</td><td>5.62</td><td>0</td></tr>\n",
       "\t<tr><th scope=row>49985</th><td>2</td><td>Internet</td><td>RoundTrip</td><td>  7</td><td>6</td><td> 4</td><td>Wed</td><td>PERPNH</td><td>Australia</td><td>0</td><td>0</td><td>0</td><td>5.62</td><td>1</td></tr>\n",
       "\t<tr><th scope=row>49986</th><td>1</td><td>Internet</td><td>RoundTrip</td><td> 26</td><td>6</td><td>13</td><td>Wed</td><td>PERPNH</td><td>Australia</td><td>1</td><td>1</td><td>1</td><td>5.62</td><td>0</td></tr>\n",
       "\t<tr><th scope=row>49987</th><td>1</td><td>Internet</td><td>RoundTrip</td><td> 94</td><td>6</td><td>19</td><td>Sat</td><td>PERPNH</td><td>Australia</td><td>0</td><td>0</td><td>0</td><td>5.62</td><td>0</td></tr>\n",
       "\t<tr><th scope=row>49988</th><td>3</td><td>Internet</td><td>RoundTrip</td><td>243</td><td>6</td><td>12</td><td>Fri</td><td>PERPNH</td><td>Australia</td><td>1</td><td>0</td><td>1</td><td>5.62</td><td>1</td></tr>\n",
       "\t<tr><th scope=row>49989</th><td>1</td><td>Internet</td><td>RoundTrip</td><td>  6</td><td>6</td><td>14</td><td>Thu</td><td>PERPNH</td><td>Australia</td><td>1</td><td>1</td><td>1</td><td>5.62</td><td>0</td></tr>\n",
       "\t<tr><th scope=row>49990</th><td>1</td><td>Internet</td><td>RoundTrip</td><td> 33</td><td>6</td><td> 2</td><td>Sat</td><td>PERPNH</td><td>Cambodia </td><td>1</td><td>0</td><td>0</td><td>5.62</td><td>0</td></tr>\n",
       "\t<tr><th scope=row>49991</th><td>1</td><td>Internet</td><td>RoundTrip</td><td> 12</td><td>6</td><td>10</td><td>Sat</td><td>PERPNH</td><td>Australia</td><td>0</td><td>0</td><td>0</td><td>5.62</td><td>0</td></tr>\n",
       "\t<tr><th scope=row>49992</th><td>1</td><td>Internet</td><td>RoundTrip</td><td>  8</td><td>6</td><td> 6</td><td>Mon</td><td>PERPNH</td><td>Australia</td><td>0</td><td>1</td><td>0</td><td>5.62</td><td>0</td></tr>\n",
       "\t<tr><th scope=row>49993</th><td>1</td><td>Internet</td><td>RoundTrip</td><td> 14</td><td>6</td><td>12</td><td>Fri</td><td>PERPNH</td><td>Australia</td><td>1</td><td>0</td><td>0</td><td>5.62</td><td>0</td></tr>\n",
       "\t<tr><th scope=row>49994</th><td>1</td><td>Internet</td><td>RoundTrip</td><td> 19</td><td>6</td><td>12</td><td>Sun</td><td>PERPNH</td><td>Australia</td><td>1</td><td>0</td><td>0</td><td>5.62</td><td>0</td></tr>\n",
       "\t<tr><th scope=row>49995</th><td>2</td><td>Internet</td><td>RoundTrip</td><td> 25</td><td>6</td><td> 9</td><td>Sun</td><td>PERPNH</td><td>Australia</td><td>0</td><td>0</td><td>0</td><td>5.62</td><td>0</td></tr>\n",
       "\t<tr><th scope=row>49996</th><td>2</td><td>Internet</td><td>RoundTrip</td><td> 27</td><td>6</td><td> 9</td><td>Sat</td><td>PERPNH</td><td>Australia</td><td>1</td><td>0</td><td>1</td><td>5.62</td><td>0</td></tr>\n",
       "\t<tr><th scope=row>49997</th><td>1</td><td>Internet</td><td>RoundTrip</td><td>111</td><td>6</td><td> 4</td><td>Sun</td><td>PERPNH</td><td>Australia</td><td>0</td><td>0</td><td>0</td><td>5.62</td><td>0</td></tr>\n",
       "\t<tr><th scope=row>49998</th><td>1</td><td>Internet</td><td>RoundTrip</td><td> 24</td><td>6</td><td>22</td><td>Sat</td><td>PERPNH</td><td>Australia</td><td>0</td><td>0</td><td>1</td><td>5.62</td><td>0</td></tr>\n",
       "\t<tr><th scope=row>49999</th><td>1</td><td>Internet</td><td>RoundTrip</td><td> 15</td><td>6</td><td>11</td><td>Mon</td><td>PERPNH</td><td>Australia</td><td>1</td><td>0</td><td>1</td><td>5.62</td><td>0</td></tr>\n",
       "\t<tr><th scope=row>50000</th><td>1</td><td>Internet</td><td>RoundTrip</td><td> 19</td><td>6</td><td>10</td><td>Thu</td><td>PERPNH</td><td>Australia</td><td>0</td><td>1</td><td>0</td><td>5.62</td><td>0</td></tr>\n",
       "</tbody>\n",
       "</table>\n"
      ],
      "text/latex": [
       "A data.frame: 49281 × 14\n",
       "\\begin{tabular}{r|llllllllllllll}\n",
       "  & num\\_passengers & sales\\_channel & trip\\_type & purchase\\_lead & length\\_of\\_stay & flight\\_hour & flight\\_day & route & booking\\_origin & wants\\_extra\\_baggage & wants\\_preferred\\_seat & wants\\_in\\_flight\\_meals & flight\\_duration & booking\\_complete\\\\\n",
       "  & <int> & <chr> & <chr> & <int> & <int> & <int> & <chr> & <chr> & <chr> & <int> & <int> & <int> & <dbl> & <int>\\\\\n",
       "\\hline\n",
       "\t1 & 2 & Internet & RoundTrip  & 262 &  19 &  7 & Sat & AKLDEL & New Zealand    & 1 & 0 & 0 & 5.52 & 0\\\\\n",
       "\t2 & 1 & Internet & RoundTrip  & 112 &  20 &  3 & Sat & AKLDEL & New Zealand    & 0 & 0 & 0 & 5.52 & 0\\\\\n",
       "\t3 & 2 & Internet & RoundTrip  & 243 &  22 & 17 & Wed & AKLDEL & India          & 1 & 1 & 0 & 5.52 & 0\\\\\n",
       "\t4 & 1 & Internet & RoundTrip  &  96 &  31 &  4 & Sat & AKLDEL & New Zealand    & 0 & 0 & 1 & 5.52 & 0\\\\\n",
       "\t5 & 2 & Internet & RoundTrip  &  68 &  22 & 15 & Wed & AKLDEL & India          & 1 & 0 & 1 & 5.52 & 0\\\\\n",
       "\t6 & 1 & Internet & RoundTrip  &   3 &  48 & 20 & Thu & AKLDEL & New Zealand    & 1 & 0 & 1 & 5.52 & 0\\\\\n",
       "\t7 & 3 & Internet & RoundTrip  & 201 &  33 &  6 & Thu & AKLDEL & New Zealand    & 1 & 0 & 1 & 5.52 & 0\\\\\n",
       "\t8 & 2 & Internet & RoundTrip  & 238 &  19 & 14 & Mon & AKLDEL & India          & 1 & 0 & 1 & 5.52 & 0\\\\\n",
       "\t9 & 1 & Internet & RoundTrip  &  80 &  22 &  4 & Mon & AKLDEL & New Zealand    & 0 & 0 & 1 & 5.52 & 0\\\\\n",
       "\t10 & 1 & Mobile   & RoundTrip  & 378 &  30 & 12 & Sun & AKLDEL & India          & 0 & 0 & 0 & 5.52 & 0\\\\\n",
       "\t11 & 2 & Internet & RoundTrip  & 185 &  25 & 14 & Tue & AKLDEL & United Kingdom & 1 & 1 & 1 & 5.52 & 0\\\\\n",
       "\t12 & 1 & Internet & RoundTrip  &   8 &  43 &  2 & Sat & AKLDEL & New Zealand    & 1 & 1 & 1 & 5.52 & 0\\\\\n",
       "\t13 & 4 & Internet & RoundTrip  & 265 &  24 & 19 & Mon & AKLDEL & New Zealand    & 1 & 0 & 1 & 5.52 & 0\\\\\n",
       "\t14 & 1 & Internet & RoundTrip  & 185 &  17 & 14 & Fri & AKLDEL & India          & 0 & 0 & 0 & 5.52 & 0\\\\\n",
       "\t15 & 1 & Internet & RoundTrip  & 245 &  34 &  4 & Tue & AKLDEL & New Zealand    & 1 & 1 & 1 & 5.52 & 0\\\\\n",
       "\t16 & 1 & Internet & RoundTrip  & 192 &  18 & 14 & Thu & AKLDEL & India          & 1 & 0 & 0 & 5.52 & 0\\\\\n",
       "\t17 & 1 & Internet & RoundTrip  & 259 &  37 &  6 & Sun & AKLDEL & India          & 0 & 0 & 0 & 5.52 & 0\\\\\n",
       "\t18 & 1 & Internet & RoundTrip  &  19 &  29 & 10 & Sat & AKLDEL & New Zealand    & 0 & 0 & 1 & 5.52 & 0\\\\\n",
       "\t19 & 1 & Internet & RoundTrip  &  67 & 155 &  8 & Sun & AKLDEL & New Zealand    & 1 & 0 & 0 & 5.52 & 0\\\\\n",
       "\t20 & 1 & Internet & RoundTrip  & 351 &  17 &  3 & Sun & AKLHGH & China          & 0 & 0 & 0 & 5.07 & 0\\\\\n",
       "\t21 & 2 & Internet & CircleTrip & 228 &  29 & 23 & Wed & AKLHND & New Zealand    & 1 & 0 & 0 & 7.57 & 0\\\\\n",
       "\t22 & 1 & Internet & RoundTrip  &  21 &  88 &  9 & Wed & AKLICN & South Korea    & 1 & 0 & 1 & 6.62 & 0\\\\\n",
       "\t23 & 2 & Internet & RoundTrip  &  23 &  19 &  8 & Mon & AKLICN & New Zealand    & 1 & 0 & 1 & 6.62 & 0\\\\\n",
       "\t24 & 2 & Internet & RoundTrip  &  25 &  27 & 13 & Fri & AKLICN & South Korea    & 1 & 0 & 1 & 6.62 & 0\\\\\n",
       "\t25 & 1 & Internet & RoundTrip  &  16 &  21 &  6 & Thu & AKLICN & New Zealand    & 1 & 0 & 1 & 6.62 & 0\\\\\n",
       "\t26 & 1 & Internet & RoundTrip  &  66 &  20 &  7 & Thu & AKLICN & South Korea    & 1 & 0 & 0 & 6.62 & 0\\\\\n",
       "\t27 & 1 & Internet & RoundTrip  &  51 &  28 &  6 & Fri & AKLICN & South Korea    & 0 & 0 & 0 & 6.62 & 0\\\\\n",
       "\t28 & 2 & Internet & RoundTrip  &  37 &  24 &  7 & Mon & AKLICN & New Zealand    & 1 & 0 & 0 & 6.62 & 0\\\\\n",
       "\t29 & 1 & Internet & RoundTrip  & 101 &  19 & 11 & Tue & AKLICN & South Korea    & 1 & 0 & 1 & 6.62 & 0\\\\\n",
       "\t30 & 1 & Internet & RoundTrip  &  19 &  47 &  2 & Tue & AKLICN & New Zealand    & 1 & 0 & 1 & 6.62 & 0\\\\\n",
       "\t⋮ & ⋮ & ⋮ & ⋮ & ⋮ & ⋮ & ⋮ & ⋮ & ⋮ & ⋮ & ⋮ & ⋮ & ⋮ & ⋮ & ⋮\\\\\n",
       "\t49971 & 2 & Internet & RoundTrip &  52 & 6 & 10 & Sun & PENTPE & Malaysia  & 1 & 1 & 1 & 4.67 & 1\\\\\n",
       "\t49972 & 2 & Mobile   & RoundTrip &  38 & 6 &  1 & Sat & PENTPE & Malaysia  & 0 & 0 & 1 & 4.67 & 1\\\\\n",
       "\t49973 & 1 & Internet & RoundTrip &  33 & 6 &  6 & Wed & PENTPE & Taiwan    & 1 & 1 & 0 & 4.67 & 1\\\\\n",
       "\t49974 & 2 & Internet & RoundTrip & 333 & 6 &  6 & Thu & PENTPE & Malaysia  & 1 & 0 & 1 & 4.67 & 0\\\\\n",
       "\t49975 & 3 & Mobile   & RoundTrip & 242 & 6 &  3 & Sat & PENTPE & Malaysia  & 0 & 0 & 0 & 4.67 & 0\\\\\n",
       "\t49976 & 1 & Internet & RoundTrip & 265 & 6 & 12 & Tue & PENTPE & Taiwan    & 0 & 0 & 0 & 4.67 & 0\\\\\n",
       "\t49977 & 4 & Internet & RoundTrip & 151 & 6 & 15 & Tue & PENTPE & Malaysia  & 1 & 0 & 0 & 4.67 & 0\\\\\n",
       "\t49978 & 2 & Internet & RoundTrip &  15 & 6 & 16 & Tue & PENTPE & Malaysia  & 1 & 1 & 1 & 4.67 & 1\\\\\n",
       "\t49979 & 2 & Internet & RoundTrip &  22 & 6 &  8 & Fri & PENTPE & Malaysia  & 1 & 0 & 1 & 4.67 & 0\\\\\n",
       "\t49980 & 2 & Internet & RoundTrip &  41 & 6 &  4 & Tue & PENTPE & Malaysia  & 1 & 0 & 0 & 4.67 & 0\\\\\n",
       "\t49981 & 4 & Internet & RoundTrip & 242 & 6 &  9 & Tue & PENXIY & Malaysia  & 1 & 0 & 1 & 5.00 & 1\\\\\n",
       "\t49982 & 1 & Internet & RoundTrip & 317 & 6 &  1 & Thu & PENXIY & Malaysia  & 1 & 0 & 1 & 5.00 & 0\\\\\n",
       "\t49983 & 2 & Internet & RoundTrip & 177 & 6 &  8 & Thu & PENXIY & Malaysia  & 1 & 1 & 0 & 5.00 & 0\\\\\n",
       "\t49984 & 1 & Internet & RoundTrip & 112 & 6 & 17 & Tue & PERPNH & Australia & 0 & 0 & 1 & 5.62 & 0\\\\\n",
       "\t49985 & 2 & Internet & RoundTrip &   7 & 6 &  4 & Wed & PERPNH & Australia & 0 & 0 & 0 & 5.62 & 1\\\\\n",
       "\t49986 & 1 & Internet & RoundTrip &  26 & 6 & 13 & Wed & PERPNH & Australia & 1 & 1 & 1 & 5.62 & 0\\\\\n",
       "\t49987 & 1 & Internet & RoundTrip &  94 & 6 & 19 & Sat & PERPNH & Australia & 0 & 0 & 0 & 5.62 & 0\\\\\n",
       "\t49988 & 3 & Internet & RoundTrip & 243 & 6 & 12 & Fri & PERPNH & Australia & 1 & 0 & 1 & 5.62 & 1\\\\\n",
       "\t49989 & 1 & Internet & RoundTrip &   6 & 6 & 14 & Thu & PERPNH & Australia & 1 & 1 & 1 & 5.62 & 0\\\\\n",
       "\t49990 & 1 & Internet & RoundTrip &  33 & 6 &  2 & Sat & PERPNH & Cambodia  & 1 & 0 & 0 & 5.62 & 0\\\\\n",
       "\t49991 & 1 & Internet & RoundTrip &  12 & 6 & 10 & Sat & PERPNH & Australia & 0 & 0 & 0 & 5.62 & 0\\\\\n",
       "\t49992 & 1 & Internet & RoundTrip &   8 & 6 &  6 & Mon & PERPNH & Australia & 0 & 1 & 0 & 5.62 & 0\\\\\n",
       "\t49993 & 1 & Internet & RoundTrip &  14 & 6 & 12 & Fri & PERPNH & Australia & 1 & 0 & 0 & 5.62 & 0\\\\\n",
       "\t49994 & 1 & Internet & RoundTrip &  19 & 6 & 12 & Sun & PERPNH & Australia & 1 & 0 & 0 & 5.62 & 0\\\\\n",
       "\t49995 & 2 & Internet & RoundTrip &  25 & 6 &  9 & Sun & PERPNH & Australia & 0 & 0 & 0 & 5.62 & 0\\\\\n",
       "\t49996 & 2 & Internet & RoundTrip &  27 & 6 &  9 & Sat & PERPNH & Australia & 1 & 0 & 1 & 5.62 & 0\\\\\n",
       "\t49997 & 1 & Internet & RoundTrip & 111 & 6 &  4 & Sun & PERPNH & Australia & 0 & 0 & 0 & 5.62 & 0\\\\\n",
       "\t49998 & 1 & Internet & RoundTrip &  24 & 6 & 22 & Sat & PERPNH & Australia & 0 & 0 & 1 & 5.62 & 0\\\\\n",
       "\t49999 & 1 & Internet & RoundTrip &  15 & 6 & 11 & Mon & PERPNH & Australia & 1 & 0 & 1 & 5.62 & 0\\\\\n",
       "\t50000 & 1 & Internet & RoundTrip &  19 & 6 & 10 & Thu & PERPNH & Australia & 0 & 1 & 0 & 5.62 & 0\\\\\n",
       "\\end{tabular}\n"
      ],
      "text/markdown": [
       "\n",
       "A data.frame: 49281 × 14\n",
       "\n",
       "| <!--/--> | num_passengers &lt;int&gt; | sales_channel &lt;chr&gt; | trip_type &lt;chr&gt; | purchase_lead &lt;int&gt; | length_of_stay &lt;int&gt; | flight_hour &lt;int&gt; | flight_day &lt;chr&gt; | route &lt;chr&gt; | booking_origin &lt;chr&gt; | wants_extra_baggage &lt;int&gt; | wants_preferred_seat &lt;int&gt; | wants_in_flight_meals &lt;int&gt; | flight_duration &lt;dbl&gt; | booking_complete &lt;int&gt; |\n",
       "|---|---|---|---|---|---|---|---|---|---|---|---|---|---|---|\n",
       "| 1 | 2 | Internet | RoundTrip  | 262 |  19 |  7 | Sat | AKLDEL | New Zealand    | 1 | 0 | 0 | 5.52 | 0 |\n",
       "| 2 | 1 | Internet | RoundTrip  | 112 |  20 |  3 | Sat | AKLDEL | New Zealand    | 0 | 0 | 0 | 5.52 | 0 |\n",
       "| 3 | 2 | Internet | RoundTrip  | 243 |  22 | 17 | Wed | AKLDEL | India          | 1 | 1 | 0 | 5.52 | 0 |\n",
       "| 4 | 1 | Internet | RoundTrip  |  96 |  31 |  4 | Sat | AKLDEL | New Zealand    | 0 | 0 | 1 | 5.52 | 0 |\n",
       "| 5 | 2 | Internet | RoundTrip  |  68 |  22 | 15 | Wed | AKLDEL | India          | 1 | 0 | 1 | 5.52 | 0 |\n",
       "| 6 | 1 | Internet | RoundTrip  |   3 |  48 | 20 | Thu | AKLDEL | New Zealand    | 1 | 0 | 1 | 5.52 | 0 |\n",
       "| 7 | 3 | Internet | RoundTrip  | 201 |  33 |  6 | Thu | AKLDEL | New Zealand    | 1 | 0 | 1 | 5.52 | 0 |\n",
       "| 8 | 2 | Internet | RoundTrip  | 238 |  19 | 14 | Mon | AKLDEL | India          | 1 | 0 | 1 | 5.52 | 0 |\n",
       "| 9 | 1 | Internet | RoundTrip  |  80 |  22 |  4 | Mon | AKLDEL | New Zealand    | 0 | 0 | 1 | 5.52 | 0 |\n",
       "| 10 | 1 | Mobile   | RoundTrip  | 378 |  30 | 12 | Sun | AKLDEL | India          | 0 | 0 | 0 | 5.52 | 0 |\n",
       "| 11 | 2 | Internet | RoundTrip  | 185 |  25 | 14 | Tue | AKLDEL | United Kingdom | 1 | 1 | 1 | 5.52 | 0 |\n",
       "| 12 | 1 | Internet | RoundTrip  |   8 |  43 |  2 | Sat | AKLDEL | New Zealand    | 1 | 1 | 1 | 5.52 | 0 |\n",
       "| 13 | 4 | Internet | RoundTrip  | 265 |  24 | 19 | Mon | AKLDEL | New Zealand    | 1 | 0 | 1 | 5.52 | 0 |\n",
       "| 14 | 1 | Internet | RoundTrip  | 185 |  17 | 14 | Fri | AKLDEL | India          | 0 | 0 | 0 | 5.52 | 0 |\n",
       "| 15 | 1 | Internet | RoundTrip  | 245 |  34 |  4 | Tue | AKLDEL | New Zealand    | 1 | 1 | 1 | 5.52 | 0 |\n",
       "| 16 | 1 | Internet | RoundTrip  | 192 |  18 | 14 | Thu | AKLDEL | India          | 1 | 0 | 0 | 5.52 | 0 |\n",
       "| 17 | 1 | Internet | RoundTrip  | 259 |  37 |  6 | Sun | AKLDEL | India          | 0 | 0 | 0 | 5.52 | 0 |\n",
       "| 18 | 1 | Internet | RoundTrip  |  19 |  29 | 10 | Sat | AKLDEL | New Zealand    | 0 | 0 | 1 | 5.52 | 0 |\n",
       "| 19 | 1 | Internet | RoundTrip  |  67 | 155 |  8 | Sun | AKLDEL | New Zealand    | 1 | 0 | 0 | 5.52 | 0 |\n",
       "| 20 | 1 | Internet | RoundTrip  | 351 |  17 |  3 | Sun | AKLHGH | China          | 0 | 0 | 0 | 5.07 | 0 |\n",
       "| 21 | 2 | Internet | CircleTrip | 228 |  29 | 23 | Wed | AKLHND | New Zealand    | 1 | 0 | 0 | 7.57 | 0 |\n",
       "| 22 | 1 | Internet | RoundTrip  |  21 |  88 |  9 | Wed | AKLICN | South Korea    | 1 | 0 | 1 | 6.62 | 0 |\n",
       "| 23 | 2 | Internet | RoundTrip  |  23 |  19 |  8 | Mon | AKLICN | New Zealand    | 1 | 0 | 1 | 6.62 | 0 |\n",
       "| 24 | 2 | Internet | RoundTrip  |  25 |  27 | 13 | Fri | AKLICN | South Korea    | 1 | 0 | 1 | 6.62 | 0 |\n",
       "| 25 | 1 | Internet | RoundTrip  |  16 |  21 |  6 | Thu | AKLICN | New Zealand    | 1 | 0 | 1 | 6.62 | 0 |\n",
       "| 26 | 1 | Internet | RoundTrip  |  66 |  20 |  7 | Thu | AKLICN | South Korea    | 1 | 0 | 0 | 6.62 | 0 |\n",
       "| 27 | 1 | Internet | RoundTrip  |  51 |  28 |  6 | Fri | AKLICN | South Korea    | 0 | 0 | 0 | 6.62 | 0 |\n",
       "| 28 | 2 | Internet | RoundTrip  |  37 |  24 |  7 | Mon | AKLICN | New Zealand    | 1 | 0 | 0 | 6.62 | 0 |\n",
       "| 29 | 1 | Internet | RoundTrip  | 101 |  19 | 11 | Tue | AKLICN | South Korea    | 1 | 0 | 1 | 6.62 | 0 |\n",
       "| 30 | 1 | Internet | RoundTrip  |  19 |  47 |  2 | Tue | AKLICN | New Zealand    | 1 | 0 | 1 | 6.62 | 0 |\n",
       "| ⋮ | ⋮ | ⋮ | ⋮ | ⋮ | ⋮ | ⋮ | ⋮ | ⋮ | ⋮ | ⋮ | ⋮ | ⋮ | ⋮ | ⋮ |\n",
       "| 49971 | 2 | Internet | RoundTrip |  52 | 6 | 10 | Sun | PENTPE | Malaysia  | 1 | 1 | 1 | 4.67 | 1 |\n",
       "| 49972 | 2 | Mobile   | RoundTrip |  38 | 6 |  1 | Sat | PENTPE | Malaysia  | 0 | 0 | 1 | 4.67 | 1 |\n",
       "| 49973 | 1 | Internet | RoundTrip |  33 | 6 |  6 | Wed | PENTPE | Taiwan    | 1 | 1 | 0 | 4.67 | 1 |\n",
       "| 49974 | 2 | Internet | RoundTrip | 333 | 6 |  6 | Thu | PENTPE | Malaysia  | 1 | 0 | 1 | 4.67 | 0 |\n",
       "| 49975 | 3 | Mobile   | RoundTrip | 242 | 6 |  3 | Sat | PENTPE | Malaysia  | 0 | 0 | 0 | 4.67 | 0 |\n",
       "| 49976 | 1 | Internet | RoundTrip | 265 | 6 | 12 | Tue | PENTPE | Taiwan    | 0 | 0 | 0 | 4.67 | 0 |\n",
       "| 49977 | 4 | Internet | RoundTrip | 151 | 6 | 15 | Tue | PENTPE | Malaysia  | 1 | 0 | 0 | 4.67 | 0 |\n",
       "| 49978 | 2 | Internet | RoundTrip |  15 | 6 | 16 | Tue | PENTPE | Malaysia  | 1 | 1 | 1 | 4.67 | 1 |\n",
       "| 49979 | 2 | Internet | RoundTrip |  22 | 6 |  8 | Fri | PENTPE | Malaysia  | 1 | 0 | 1 | 4.67 | 0 |\n",
       "| 49980 | 2 | Internet | RoundTrip |  41 | 6 |  4 | Tue | PENTPE | Malaysia  | 1 | 0 | 0 | 4.67 | 0 |\n",
       "| 49981 | 4 | Internet | RoundTrip | 242 | 6 |  9 | Tue | PENXIY | Malaysia  | 1 | 0 | 1 | 5.00 | 1 |\n",
       "| 49982 | 1 | Internet | RoundTrip | 317 | 6 |  1 | Thu | PENXIY | Malaysia  | 1 | 0 | 1 | 5.00 | 0 |\n",
       "| 49983 | 2 | Internet | RoundTrip | 177 | 6 |  8 | Thu | PENXIY | Malaysia  | 1 | 1 | 0 | 5.00 | 0 |\n",
       "| 49984 | 1 | Internet | RoundTrip | 112 | 6 | 17 | Tue | PERPNH | Australia | 0 | 0 | 1 | 5.62 | 0 |\n",
       "| 49985 | 2 | Internet | RoundTrip |   7 | 6 |  4 | Wed | PERPNH | Australia | 0 | 0 | 0 | 5.62 | 1 |\n",
       "| 49986 | 1 | Internet | RoundTrip |  26 | 6 | 13 | Wed | PERPNH | Australia | 1 | 1 | 1 | 5.62 | 0 |\n",
       "| 49987 | 1 | Internet | RoundTrip |  94 | 6 | 19 | Sat | PERPNH | Australia | 0 | 0 | 0 | 5.62 | 0 |\n",
       "| 49988 | 3 | Internet | RoundTrip | 243 | 6 | 12 | Fri | PERPNH | Australia | 1 | 0 | 1 | 5.62 | 1 |\n",
       "| 49989 | 1 | Internet | RoundTrip |   6 | 6 | 14 | Thu | PERPNH | Australia | 1 | 1 | 1 | 5.62 | 0 |\n",
       "| 49990 | 1 | Internet | RoundTrip |  33 | 6 |  2 | Sat | PERPNH | Cambodia  | 1 | 0 | 0 | 5.62 | 0 |\n",
       "| 49991 | 1 | Internet | RoundTrip |  12 | 6 | 10 | Sat | PERPNH | Australia | 0 | 0 | 0 | 5.62 | 0 |\n",
       "| 49992 | 1 | Internet | RoundTrip |   8 | 6 |  6 | Mon | PERPNH | Australia | 0 | 1 | 0 | 5.62 | 0 |\n",
       "| 49993 | 1 | Internet | RoundTrip |  14 | 6 | 12 | Fri | PERPNH | Australia | 1 | 0 | 0 | 5.62 | 0 |\n",
       "| 49994 | 1 | Internet | RoundTrip |  19 | 6 | 12 | Sun | PERPNH | Australia | 1 | 0 | 0 | 5.62 | 0 |\n",
       "| 49995 | 2 | Internet | RoundTrip |  25 | 6 |  9 | Sun | PERPNH | Australia | 0 | 0 | 0 | 5.62 | 0 |\n",
       "| 49996 | 2 | Internet | RoundTrip |  27 | 6 |  9 | Sat | PERPNH | Australia | 1 | 0 | 1 | 5.62 | 0 |\n",
       "| 49997 | 1 | Internet | RoundTrip | 111 | 6 |  4 | Sun | PERPNH | Australia | 0 | 0 | 0 | 5.62 | 0 |\n",
       "| 49998 | 1 | Internet | RoundTrip |  24 | 6 | 22 | Sat | PERPNH | Australia | 0 | 0 | 1 | 5.62 | 0 |\n",
       "| 49999 | 1 | Internet | RoundTrip |  15 | 6 | 11 | Mon | PERPNH | Australia | 1 | 0 | 1 | 5.62 | 0 |\n",
       "| 50000 | 1 | Internet | RoundTrip |  19 | 6 | 10 | Thu | PERPNH | Australia | 0 | 1 | 0 | 5.62 | 0 |\n",
       "\n"
      ],
      "text/plain": [
       "      num_passengers sales_channel trip_type  purchase_lead length_of_stay\n",
       "1     2              Internet      RoundTrip  262            19           \n",
       "2     1              Internet      RoundTrip  112            20           \n",
       "3     2              Internet      RoundTrip  243            22           \n",
       "4     1              Internet      RoundTrip   96            31           \n",
       "5     2              Internet      RoundTrip   68            22           \n",
       "6     1              Internet      RoundTrip    3            48           \n",
       "7     3              Internet      RoundTrip  201            33           \n",
       "8     2              Internet      RoundTrip  238            19           \n",
       "9     1              Internet      RoundTrip   80            22           \n",
       "10    1              Mobile        RoundTrip  378            30           \n",
       "11    2              Internet      RoundTrip  185            25           \n",
       "12    1              Internet      RoundTrip    8            43           \n",
       "13    4              Internet      RoundTrip  265            24           \n",
       "14    1              Internet      RoundTrip  185            17           \n",
       "15    1              Internet      RoundTrip  245            34           \n",
       "16    1              Internet      RoundTrip  192            18           \n",
       "17    1              Internet      RoundTrip  259            37           \n",
       "18    1              Internet      RoundTrip   19            29           \n",
       "19    1              Internet      RoundTrip   67           155           \n",
       "20    1              Internet      RoundTrip  351            17           \n",
       "21    2              Internet      CircleTrip 228            29           \n",
       "22    1              Internet      RoundTrip   21            88           \n",
       "23    2              Internet      RoundTrip   23            19           \n",
       "24    2              Internet      RoundTrip   25            27           \n",
       "25    1              Internet      RoundTrip   16            21           \n",
       "26    1              Internet      RoundTrip   66            20           \n",
       "27    1              Internet      RoundTrip   51            28           \n",
       "28    2              Internet      RoundTrip   37            24           \n",
       "29    1              Internet      RoundTrip  101            19           \n",
       "30    1              Internet      RoundTrip   19            47           \n",
       "⋮     ⋮              ⋮             ⋮          ⋮             ⋮             \n",
       "49971 2              Internet      RoundTrip   52           6             \n",
       "49972 2              Mobile        RoundTrip   38           6             \n",
       "49973 1              Internet      RoundTrip   33           6             \n",
       "49974 2              Internet      RoundTrip  333           6             \n",
       "49975 3              Mobile        RoundTrip  242           6             \n",
       "49976 1              Internet      RoundTrip  265           6             \n",
       "49977 4              Internet      RoundTrip  151           6             \n",
       "49978 2              Internet      RoundTrip   15           6             \n",
       "49979 2              Internet      RoundTrip   22           6             \n",
       "49980 2              Internet      RoundTrip   41           6             \n",
       "49981 4              Internet      RoundTrip  242           6             \n",
       "49982 1              Internet      RoundTrip  317           6             \n",
       "49983 2              Internet      RoundTrip  177           6             \n",
       "49984 1              Internet      RoundTrip  112           6             \n",
       "49985 2              Internet      RoundTrip    7           6             \n",
       "49986 1              Internet      RoundTrip   26           6             \n",
       "49987 1              Internet      RoundTrip   94           6             \n",
       "49988 3              Internet      RoundTrip  243           6             \n",
       "49989 1              Internet      RoundTrip    6           6             \n",
       "49990 1              Internet      RoundTrip   33           6             \n",
       "49991 1              Internet      RoundTrip   12           6             \n",
       "49992 1              Internet      RoundTrip    8           6             \n",
       "49993 1              Internet      RoundTrip   14           6             \n",
       "49994 1              Internet      RoundTrip   19           6             \n",
       "49995 2              Internet      RoundTrip   25           6             \n",
       "49996 2              Internet      RoundTrip   27           6             \n",
       "49997 1              Internet      RoundTrip  111           6             \n",
       "49998 1              Internet      RoundTrip   24           6             \n",
       "49999 1              Internet      RoundTrip   15           6             \n",
       "50000 1              Internet      RoundTrip   19           6             \n",
       "      flight_hour flight_day route  booking_origin wants_extra_baggage\n",
       "1      7          Sat        AKLDEL New Zealand    1                  \n",
       "2      3          Sat        AKLDEL New Zealand    0                  \n",
       "3     17          Wed        AKLDEL India          1                  \n",
       "4      4          Sat        AKLDEL New Zealand    0                  \n",
       "5     15          Wed        AKLDEL India          1                  \n",
       "6     20          Thu        AKLDEL New Zealand    1                  \n",
       "7      6          Thu        AKLDEL New Zealand    1                  \n",
       "8     14          Mon        AKLDEL India          1                  \n",
       "9      4          Mon        AKLDEL New Zealand    0                  \n",
       "10    12          Sun        AKLDEL India          0                  \n",
       "11    14          Tue        AKLDEL United Kingdom 1                  \n",
       "12     2          Sat        AKLDEL New Zealand    1                  \n",
       "13    19          Mon        AKLDEL New Zealand    1                  \n",
       "14    14          Fri        AKLDEL India          0                  \n",
       "15     4          Tue        AKLDEL New Zealand    1                  \n",
       "16    14          Thu        AKLDEL India          1                  \n",
       "17     6          Sun        AKLDEL India          0                  \n",
       "18    10          Sat        AKLDEL New Zealand    0                  \n",
       "19     8          Sun        AKLDEL New Zealand    1                  \n",
       "20     3          Sun        AKLHGH China          0                  \n",
       "21    23          Wed        AKLHND New Zealand    1                  \n",
       "22     9          Wed        AKLICN South Korea    1                  \n",
       "23     8          Mon        AKLICN New Zealand    1                  \n",
       "24    13          Fri        AKLICN South Korea    1                  \n",
       "25     6          Thu        AKLICN New Zealand    1                  \n",
       "26     7          Thu        AKLICN South Korea    1                  \n",
       "27     6          Fri        AKLICN South Korea    0                  \n",
       "28     7          Mon        AKLICN New Zealand    1                  \n",
       "29    11          Tue        AKLICN South Korea    1                  \n",
       "30     2          Tue        AKLICN New Zealand    1                  \n",
       "⋮     ⋮           ⋮          ⋮      ⋮              ⋮                  \n",
       "49971 10          Sun        PENTPE Malaysia       1                  \n",
       "49972  1          Sat        PENTPE Malaysia       0                  \n",
       "49973  6          Wed        PENTPE Taiwan         1                  \n",
       "49974  6          Thu        PENTPE Malaysia       1                  \n",
       "49975  3          Sat        PENTPE Malaysia       0                  \n",
       "49976 12          Tue        PENTPE Taiwan         0                  \n",
       "49977 15          Tue        PENTPE Malaysia       1                  \n",
       "49978 16          Tue        PENTPE Malaysia       1                  \n",
       "49979  8          Fri        PENTPE Malaysia       1                  \n",
       "49980  4          Tue        PENTPE Malaysia       1                  \n",
       "49981  9          Tue        PENXIY Malaysia       1                  \n",
       "49982  1          Thu        PENXIY Malaysia       1                  \n",
       "49983  8          Thu        PENXIY Malaysia       1                  \n",
       "49984 17          Tue        PERPNH Australia      0                  \n",
       "49985  4          Wed        PERPNH Australia      0                  \n",
       "49986 13          Wed        PERPNH Australia      1                  \n",
       "49987 19          Sat        PERPNH Australia      0                  \n",
       "49988 12          Fri        PERPNH Australia      1                  \n",
       "49989 14          Thu        PERPNH Australia      1                  \n",
       "49990  2          Sat        PERPNH Cambodia       1                  \n",
       "49991 10          Sat        PERPNH Australia      0                  \n",
       "49992  6          Mon        PERPNH Australia      0                  \n",
       "49993 12          Fri        PERPNH Australia      1                  \n",
       "49994 12          Sun        PERPNH Australia      1                  \n",
       "49995  9          Sun        PERPNH Australia      0                  \n",
       "49996  9          Sat        PERPNH Australia      1                  \n",
       "49997  4          Sun        PERPNH Australia      0                  \n",
       "49998 22          Sat        PERPNH Australia      0                  \n",
       "49999 11          Mon        PERPNH Australia      1                  \n",
       "50000 10          Thu        PERPNH Australia      0                  \n",
       "      wants_preferred_seat wants_in_flight_meals flight_duration\n",
       "1     0                    0                     5.52           \n",
       "2     0                    0                     5.52           \n",
       "3     1                    0                     5.52           \n",
       "4     0                    1                     5.52           \n",
       "5     0                    1                     5.52           \n",
       "6     0                    1                     5.52           \n",
       "7     0                    1                     5.52           \n",
       "8     0                    1                     5.52           \n",
       "9     0                    1                     5.52           \n",
       "10    0                    0                     5.52           \n",
       "11    1                    1                     5.52           \n",
       "12    1                    1                     5.52           \n",
       "13    0                    1                     5.52           \n",
       "14    0                    0                     5.52           \n",
       "15    1                    1                     5.52           \n",
       "16    0                    0                     5.52           \n",
       "17    0                    0                     5.52           \n",
       "18    0                    1                     5.52           \n",
       "19    0                    0                     5.52           \n",
       "20    0                    0                     5.07           \n",
       "21    0                    0                     7.57           \n",
       "22    0                    1                     6.62           \n",
       "23    0                    1                     6.62           \n",
       "24    0                    1                     6.62           \n",
       "25    0                    1                     6.62           \n",
       "26    0                    0                     6.62           \n",
       "27    0                    0                     6.62           \n",
       "28    0                    0                     6.62           \n",
       "29    0                    1                     6.62           \n",
       "30    0                    1                     6.62           \n",
       "⋮     ⋮                    ⋮                     ⋮              \n",
       "49971 1                    1                     4.67           \n",
       "49972 0                    1                     4.67           \n",
       "49973 1                    0                     4.67           \n",
       "49974 0                    1                     4.67           \n",
       "49975 0                    0                     4.67           \n",
       "49976 0                    0                     4.67           \n",
       "49977 0                    0                     4.67           \n",
       "49978 1                    1                     4.67           \n",
       "49979 0                    1                     4.67           \n",
       "49980 0                    0                     4.67           \n",
       "49981 0                    1                     5.00           \n",
       "49982 0                    1                     5.00           \n",
       "49983 1                    0                     5.00           \n",
       "49984 0                    1                     5.62           \n",
       "49985 0                    0                     5.62           \n",
       "49986 1                    1                     5.62           \n",
       "49987 0                    0                     5.62           \n",
       "49988 0                    1                     5.62           \n",
       "49989 1                    1                     5.62           \n",
       "49990 0                    0                     5.62           \n",
       "49991 0                    0                     5.62           \n",
       "49992 1                    0                     5.62           \n",
       "49993 0                    0                     5.62           \n",
       "49994 0                    0                     5.62           \n",
       "49995 0                    0                     5.62           \n",
       "49996 0                    1                     5.62           \n",
       "49997 0                    0                     5.62           \n",
       "49998 0                    1                     5.62           \n",
       "49999 0                    1                     5.62           \n",
       "50000 1                    0                     5.62           \n",
       "      booking_complete\n",
       "1     0               \n",
       "2     0               \n",
       "3     0               \n",
       "4     0               \n",
       "5     0               \n",
       "6     0               \n",
       "7     0               \n",
       "8     0               \n",
       "9     0               \n",
       "10    0               \n",
       "11    0               \n",
       "12    0               \n",
       "13    0               \n",
       "14    0               \n",
       "15    0               \n",
       "16    0               \n",
       "17    0               \n",
       "18    0               \n",
       "19    0               \n",
       "20    0               \n",
       "21    0               \n",
       "22    0               \n",
       "23    0               \n",
       "24    0               \n",
       "25    0               \n",
       "26    0               \n",
       "27    0               \n",
       "28    0               \n",
       "29    0               \n",
       "30    0               \n",
       "⋮     ⋮               \n",
       "49971 1               \n",
       "49972 1               \n",
       "49973 1               \n",
       "49974 0               \n",
       "49975 0               \n",
       "49976 0               \n",
       "49977 0               \n",
       "49978 1               \n",
       "49979 0               \n",
       "49980 0               \n",
       "49981 1               \n",
       "49982 0               \n",
       "49983 0               \n",
       "49984 0               \n",
       "49985 1               \n",
       "49986 0               \n",
       "49987 0               \n",
       "49988 1               \n",
       "49989 0               \n",
       "49990 0               \n",
       "49991 0               \n",
       "49992 0               \n",
       "49993 0               \n",
       "49994 0               \n",
       "49995 0               \n",
       "49996 0               \n",
       "49997 0               \n",
       "49998 0               \n",
       "49999 0               \n",
       "50000 0               "
      ]
     },
     "metadata": {},
     "output_type": "display_data"
    }
   ],
   "source": [
    "df[!duplicated(df),]"
   ]
  },
  {
   "cell_type": "code",
   "execution_count": 9,
   "id": "0af876e3",
   "metadata": {
    "execution": {
     "iopub.execute_input": "2024-04-30T13:47:07.641578Z",
     "iopub.status.busy": "2024-04-30T13:47:07.639666Z",
     "iopub.status.idle": "2024-04-30T13:47:08.170055Z",
     "shell.execute_reply": "2024-04-30T13:47:08.167616Z"
    },
    "papermill": {
     "duration": 0.546417,
     "end_time": "2024-04-30T13:47:08.173654",
     "exception": false,
     "start_time": "2024-04-30T13:47:07.627237",
     "status": "completed"
    },
    "tags": []
   },
   "outputs": [
    {
     "data": {
      "text/html": [
       "<table class=\"dataframe\">\n",
       "<caption>A data.frame: 1 × 1</caption>\n",
       "<thead>\n",
       "\t<tr><th scope=col>n</th></tr>\n",
       "\t<tr><th scope=col>&lt;int&gt;</th></tr>\n",
       "</thead>\n",
       "<tbody>\n",
       "\t<tr><td>49281</td></tr>\n",
       "</tbody>\n",
       "</table>\n"
      ],
      "text/latex": [
       "A data.frame: 1 × 1\n",
       "\\begin{tabular}{l}\n",
       " n\\\\\n",
       " <int>\\\\\n",
       "\\hline\n",
       "\t 49281\\\\\n",
       "\\end{tabular}\n"
      ],
      "text/markdown": [
       "\n",
       "A data.frame: 1 × 1\n",
       "\n",
       "| n &lt;int&gt; |\n",
       "|---|\n",
       "| 49281 |\n",
       "\n"
      ],
      "text/plain": [
       "  n    \n",
       "1 49281"
      ]
     },
     "metadata": {},
     "output_type": "display_data"
    }
   ],
   "source": [
    "# Counting the number of Rows\n",
    "count(unique(df))"
   ]
  },
  {
   "cell_type": "code",
   "execution_count": 10,
   "id": "ebd170b9",
   "metadata": {
    "execution": {
     "iopub.execute_input": "2024-04-30T13:47:08.214380Z",
     "iopub.status.busy": "2024-04-30T13:47:08.196437Z",
     "iopub.status.idle": "2024-04-30T13:47:08.279411Z",
     "shell.execute_reply": "2024-04-30T13:47:08.277501Z"
    },
    "papermill": {
     "duration": 0.09913,
     "end_time": "2024-04-30T13:47:08.282979",
     "exception": false,
     "start_time": "2024-04-30T13:47:08.183849",
     "status": "completed"
    },
    "tags": []
   },
   "outputs": [
    {
     "data": {
      "text/html": [
       "<table class=\"dataframe\">\n",
       "<caption>A data.frame: 6 × 2</caption>\n",
       "<thead>\n",
       "\t<tr><th></th><th scope=col>booking_origin</th><th scope=col>flight_duration</th></tr>\n",
       "\t<tr><th></th><th scope=col>&lt;chr&gt;</th><th scope=col>&lt;dbl&gt;</th></tr>\n",
       "</thead>\n",
       "<tbody>\n",
       "\t<tr><th scope=row>1</th><td>New Zealand</td><td>5.52</td></tr>\n",
       "\t<tr><th scope=row>2</th><td>New Zealand</td><td>5.52</td></tr>\n",
       "\t<tr><th scope=row>3</th><td>India      </td><td>5.52</td></tr>\n",
       "\t<tr><th scope=row>4</th><td>New Zealand</td><td>5.52</td></tr>\n",
       "\t<tr><th scope=row>5</th><td>India      </td><td>5.52</td></tr>\n",
       "\t<tr><th scope=row>6</th><td>New Zealand</td><td>5.52</td></tr>\n",
       "</tbody>\n",
       "</table>\n"
      ],
      "text/latex": [
       "A data.frame: 6 × 2\n",
       "\\begin{tabular}{r|ll}\n",
       "  & booking\\_origin & flight\\_duration\\\\\n",
       "  & <chr> & <dbl>\\\\\n",
       "\\hline\n",
       "\t1 & New Zealand & 5.52\\\\\n",
       "\t2 & New Zealand & 5.52\\\\\n",
       "\t3 & India       & 5.52\\\\\n",
       "\t4 & New Zealand & 5.52\\\\\n",
       "\t5 & India       & 5.52\\\\\n",
       "\t6 & New Zealand & 5.52\\\\\n",
       "\\end{tabular}\n"
      ],
      "text/markdown": [
       "\n",
       "A data.frame: 6 × 2\n",
       "\n",
       "| <!--/--> | booking_origin &lt;chr&gt; | flight_duration &lt;dbl&gt; |\n",
       "|---|---|---|\n",
       "| 1 | New Zealand | 5.52 |\n",
       "| 2 | New Zealand | 5.52 |\n",
       "| 3 | India       | 5.52 |\n",
       "| 4 | New Zealand | 5.52 |\n",
       "| 5 | India       | 5.52 |\n",
       "| 6 | New Zealand | 5.52 |\n",
       "\n"
      ],
      "text/plain": [
       "  booking_origin flight_duration\n",
       "1 New Zealand    5.52           \n",
       "2 New Zealand    5.52           \n",
       "3 India          5.52           \n",
       "4 New Zealand    5.52           \n",
       "5 India          5.52           \n",
       "6 New Zealand    5.52           "
      ]
     },
     "metadata": {},
     "output_type": "display_data"
    }
   ],
   "source": [
    "df%>%select(booking_origin,flight_duration)%>%\n",
    "head()"
   ]
  },
  {
   "cell_type": "code",
   "execution_count": 11,
   "id": "920f84e7",
   "metadata": {
    "execution": {
     "iopub.execute_input": "2024-04-30T13:47:08.309534Z",
     "iopub.status.busy": "2024-04-30T13:47:08.307795Z",
     "iopub.status.idle": "2024-04-30T13:47:08.324705Z",
     "shell.execute_reply": "2024-04-30T13:47:08.322710Z"
    },
    "papermill": {
     "duration": 0.033879,
     "end_time": "2024-04-30T13:47:08.328801",
     "exception": false,
     "start_time": "2024-04-30T13:47:08.294922",
     "status": "completed"
    },
    "tags": []
   },
   "outputs": [],
   "source": [
    "library(\"ggplot2\")"
   ]
  },
  {
   "cell_type": "code",
   "execution_count": 12,
   "id": "419e3d4b",
   "metadata": {
    "execution": {
     "iopub.execute_input": "2024-04-30T13:47:08.355364Z",
     "iopub.status.busy": "2024-04-30T13:47:08.353568Z",
     "iopub.status.idle": "2024-04-30T13:47:08.397772Z",
     "shell.execute_reply": "2024-04-30T13:47:08.395154Z"
    },
    "papermill": {
     "duration": 0.060481,
     "end_time": "2024-04-30T13:47:08.401058",
     "exception": false,
     "start_time": "2024-04-30T13:47:08.340577",
     "status": "completed"
    },
    "tags": []
   },
   "outputs": [
    {
     "data": {
      "text/html": [
       "<table class=\"dataframe\">\n",
       "<caption>A tibble: 3 × 2</caption>\n",
       "<thead>\n",
       "\t<tr><th scope=col>trip_type</th><th scope=col>passengers</th></tr>\n",
       "\t<tr><th scope=col>&lt;chr&gt;</th><th scope=col>&lt;int&gt;</th></tr>\n",
       "</thead>\n",
       "<tbody>\n",
       "\t<tr><td>CircleTrip</td><td>  182</td></tr>\n",
       "\t<tr><td>OneWay    </td><td>  606</td></tr>\n",
       "\t<tr><td>RoundTrip </td><td>78774</td></tr>\n",
       "</tbody>\n",
       "</table>\n"
      ],
      "text/latex": [
       "A tibble: 3 × 2\n",
       "\\begin{tabular}{ll}\n",
       " trip\\_type & passengers\\\\\n",
       " <chr> & <int>\\\\\n",
       "\\hline\n",
       "\t CircleTrip &   182\\\\\n",
       "\t OneWay     &   606\\\\\n",
       "\t RoundTrip  & 78774\\\\\n",
       "\\end{tabular}\n"
      ],
      "text/markdown": [
       "\n",
       "A tibble: 3 × 2\n",
       "\n",
       "| trip_type &lt;chr&gt; | passengers &lt;int&gt; |\n",
       "|---|---|\n",
       "| CircleTrip |   182 |\n",
       "| OneWay     |   606 |\n",
       "| RoundTrip  | 78774 |\n",
       "\n"
      ],
      "text/plain": [
       "  trip_type  passengers\n",
       "1 CircleTrip   182     \n",
       "2 OneWay       606     \n",
       "3 RoundTrip  78774     "
      ]
     },
     "metadata": {},
     "output_type": "display_data"
    }
   ],
   "source": [
    "df%>%group_by(trip_type)%>%\n",
    "summarize(passengers=sum(num_passengers))"
   ]
  },
  {
   "cell_type": "code",
   "execution_count": 13,
   "id": "e309a623",
   "metadata": {
    "execution": {
     "iopub.execute_input": "2024-04-30T13:47:08.426578Z",
     "iopub.status.busy": "2024-04-30T13:47:08.424830Z",
     "iopub.status.idle": "2024-04-30T13:47:08.681784Z",
     "shell.execute_reply": "2024-04-30T13:47:08.679848Z"
    },
    "papermill": {
     "duration": 0.272921,
     "end_time": "2024-04-30T13:47:08.684655",
     "exception": false,
     "start_time": "2024-04-30T13:47:08.411734",
     "status": "completed"
    },
    "tags": []
   },
   "outputs": [
    {
     "name": "stderr",
     "output_type": "stream",
     "text": [
      "\n",
      "Attaching package: ‘plotly’\n",
      "\n",
      "\n",
      "The following object is masked from ‘package:ggplot2’:\n",
      "\n",
      "    last_plot\n",
      "\n",
      "\n",
      "The following object is masked from ‘package:stats’:\n",
      "\n",
      "    filter\n",
      "\n",
      "\n",
      "The following object is masked from ‘package:graphics’:\n",
      "\n",
      "    layout\n",
      "\n",
      "\n",
      "The following object is masked from ‘package:httr’:\n",
      "\n",
      "    config\n",
      "\n",
      "\n"
     ]
    }
   ],
   "source": [
    "library(plotly)\n",
    "library(ggplot2)"
   ]
  },
  {
   "cell_type": "code",
   "execution_count": 14,
   "id": "d1a2ca55",
   "metadata": {
    "execution": {
     "iopub.execute_input": "2024-04-30T13:47:08.721839Z",
     "iopub.status.busy": "2024-04-30T13:47:08.719943Z",
     "iopub.status.idle": "2024-04-30T13:47:11.770899Z",
     "shell.execute_reply": "2024-04-30T13:47:11.768912Z"
    },
    "papermill": {
     "duration": 3.077702,
     "end_time": "2024-04-30T13:47:11.773425",
     "exception": false,
     "start_time": "2024-04-30T13:47:08.695723",
     "status": "completed"
    },
    "tags": []
   },
   "outputs": [
    {
     "data": {
      "image/png": "[encoded data removed]"
     },
     "metadata": {
      "image/png": {
       "height": 420,
       "width": 420
      }
     },
     "output_type": "display_data"
    }
   ],
   "source": [
    "ggplot(data=df)+geom_line(mapping=aes(x=flight_day,y=purchase_lead))"
   ]
  },
  {
   "cell_type": "code",
   "execution_count": 15,
   "id": "eb7d995f",
   "metadata": {
    "execution": {
     "iopub.execute_input": "2024-04-30T13:47:11.801686Z",
     "iopub.status.busy": "2024-04-30T13:47:11.799946Z",
     "iopub.status.idle": "2024-04-30T13:47:13.186576Z",
     "shell.execute_reply": "2024-04-30T13:47:13.184590Z"
    },
    "papermill": {
     "duration": 1.403455,
     "end_time": "2024-04-30T13:47:13.189306",
     "exception": false,
     "start_time": "2024-04-30T13:47:11.785851",
     "status": "completed"
    },
    "tags": []
   },
   "outputs": [
    {
     "data": {
      "image/png": "[encoded data removed]"
     },
     "metadata": {
      "image/png": {
       "height": 420,
       "width": 420
      }
     },
     "output_type": "display_data"
    }
   ],
   "source": [
    "ggplot(data=df)+geom_col(mapping=aes(x=flight_day,y=length_of_stay,color='r'))"
   ]
  },
  {
   "cell_type": "code",
   "execution_count": 16,
   "id": "1fe5a12d",
   "metadata": {
    "execution": {
     "iopub.execute_input": "2024-04-30T13:47:13.218317Z",
     "iopub.status.busy": "2024-04-30T13:47:13.216528Z",
     "iopub.status.idle": "2024-04-30T13:47:13.946276Z",
     "shell.execute_reply": "2024-04-30T13:47:13.943278Z"
    },
    "papermill": {
     "duration": 0.747738,
     "end_time": "2024-04-30T13:47:13.949741",
     "exception": false,
     "start_time": "2024-04-30T13:47:13.202003",
     "status": "completed"
    },
    "tags": []
   },
   "outputs": [
    {
     "data": {
      "image/png": "[encoded data removed]"
     },
     "metadata": {
      "image/png": {
       "height": 420,
       "width": 420
      }
     },
     "output_type": "display_data"
    }
   ],
   "source": [
    "ggplot(data=df)+geom_col(mapping=aes(x=sales_channel,y=purchase_lead))+labs(title='Lead Time Vs Sales Channel')"
   ]
  },
  {
   "cell_type": "code",
   "execution_count": 17,
   "id": "aa15acb3",
   "metadata": {
    "execution": {
     "iopub.execute_input": "2024-04-30T13:47:13.979998Z",
     "iopub.status.busy": "2024-04-30T13:47:13.978256Z",
     "iopub.status.idle": "2024-04-30T13:47:14.777079Z",
     "shell.execute_reply": "2024-04-30T13:47:14.773896Z"
    },
    "papermill": {
     "duration": 0.81834,
     "end_time": "2024-04-30T13:47:14.780792",
     "exception": false,
     "start_time": "2024-04-30T13:47:13.962452",
     "status": "completed"
    },
    "tags": []
   },
   "outputs": [
    {
     "data": {
      "image/png": "[encoded data removed]"
     },
     "metadata": {
      "image/png": {
       "height": 420,
       "width": 420
      }
     },
     "output_type": "display_data"
    }
   ],
   "source": [
    "ggplot(data=df)+geom_col(mapping=aes(x=trip_type,y=num_passengers))+labs(title='My comparison')"
   ]
  }
 ],
 "metadata": {
  "kaggle": {
   "accelerator": "none",
   "dataSources": [
    {
     "datasetId": 4840501,
     "sourceId": 8177167,
     "sourceType": "datasetVersion"
    }
   ],
   "dockerImageVersionId": 30618,
   "isGpuEnabled": false,
   "isInternetEnabled": false,
   "language": "r",
   "sourceType": "notebook"
  },
  "kernelspec": {
   "display_name": "R",
   "language": "R",
   "name": "ir"
  },
  "language_info": {
   "codemirror_mode": "r",
   "file_extension": ".r",
   "mimetype": "text/x-r-source",
   "name": "R",
   "pygments_lexer": "r",
   "version": "4.0.5"
  },
  "papermill": {
   "default_parameters": {},
   "duration": 14.301219,
   "end_time": "2024-04-30T13:47:14.919877",
   "environment_variables": {},
   "exception": null,
   "input_path": "__notebook__.ipynb",
   "output_path": "__notebook__.ipynb",
   "parameters": {},
   "start_time": "2024-04-30T13:47:00.618658",
   "version": "2.5.0"
  }
 },
 "nbformat": 4,
 "nbformat_minor": 5
}
